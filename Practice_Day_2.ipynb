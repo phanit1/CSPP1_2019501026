{
  "nbformat": 4,
  "nbformat_minor": 0,
  "metadata": {
    "colab": {
      "name": "Practice Day - 2.ipynb",
      "version": "0.3.2",
      "provenance": [],
      "collapsed_sections": []
    },
    "kernelspec": {
      "name": "python3",
      "display_name": "Python 3"
    }
  },
  "cells": [
    {
      "cell_type": "markdown",
      "metadata": {
        "id": "hpz0wDpeQonY",
        "colab_type": "text"
      },
      "source": [
        "# **Alphabets Mapping With Fibonacci**\n",
        "\n",
        "Mapping the Fibonacci Numbers with English Alphabets: \n",
        "\n",
        "Write a python program to calculate\n",
        "the first 26 Fibonacci numbers and assign each Fibonacci number a letter in English by using\n",
        "Dictionaries. (Keys as English alphabets and Values as Fibonacci numbers). Given a string as\n",
        "input and calculate the sum of all the values of the characters that are associated with the\n",
        "Fibonacci numbers from the given string. Write a recursive function for finding the Fibonacci\n",
        "numbers."
      ]
    },
    {
      "cell_type": "code",
      "metadata": {
        "id": "wF1KB0nKQXFE",
        "colab_type": "code",
        "colab": {}
      },
      "source": [
        "#Your code goes here\n",
        "\n",
        "\n",
        "\n",
        "assert dictionary_fibonacci(\"aBcDeF\") == 12\n",
        "assert dictionary_fibonacci(\"M$itc1hL@pa$$w0rd\") == 24369\n",
        "assert dictionary_fibonacci(\"!@#$%^&*()\") == 0\n",
        "assert dictionary_fibonacci(\"CIHL-MSIT\") == 7054\n",
        "assert dictionary_fibonacci(\"{aaaappplle_pen}\") == 2857\n",
        "assert dictionary_fibonacci(\"(hELL0---_&WoRLD)\") == 19970\n",
        "assert dictionary_fibonacci(\"\") == "
      ],
      "execution_count": 0,
      "outputs": []
    },
    {
      "cell_type": "markdown",
      "metadata": {
        "id": "w8e9IjwcQsfR",
        "colab_type": "text"
      },
      "source": [
        "# **Sum of factorial digits**\n",
        "\n",
        "Sum of Factorial of the digits of the given number: Write a python program to compute sum of the factorials of each digit of a given integer. Write a separate function for calculating the factorial of a number."
      ]
    },
    {
      "cell_type": "code",
      "metadata": {
        "id": "JXrU0hf8Qsnv",
        "colab_type": "code",
        "colab": {}
      },
      "source": [
        "# Your code goes here\n",
        "\n",
        "\n",
        "assert factorial_sum(10) == 2\n",
        "assert factorial_sum(1234520) == 156\n",
        "assert factorial_sum(9999888776) == 1583280\n",
        "assert factorial_sum(0) == 1\n",
        "assert factorial_sum(101010) == 6\n",
        "assert factorial_sum() == \n",
        "assert factorial_sum() == "
      ],
      "execution_count": 0,
      "outputs": []
    },
    {
      "cell_type": "markdown",
      "metadata": {
        "id": "siZbN21yQsxl",
        "colab_type": "text"
      },
      "source": [
        "# **Two Lists Same or Not**\n",
        "\n",
        "Check if two lists are same or not: Write a python program that prints True if the given\n",
        "elements in two lists are same."
      ]
    },
    {
      "cell_type": "code",
      "metadata": {
        "id": "qnQpc6dmQs5s",
        "colab_type": "code",
        "colab": {}
      },
      "source": [
        "#Your code goes here\n",
        "\n",
        "\n",
        "\n",
        "assert lists_same(['1','2','3','4','5'], ['5','4','3','2','1']) == True\n",
        "assert lists_same(['1','1','1','1','1','1','1','1','1','1'], ['1','1','1','1','1','1']) == False\n",
        "assert lists_same(['1','1','2','2','3','3','4','4','5','6','7','8','9','9'], ['7','9','1','2','3','4','5','6','4','3','2','1','9','8']) == True\n",
        "assert lists_same([], []) == True\n",
        "assert lists_same([\" \",\" \",\" \",\" \",\" \",\" \"], [\" \",\" \",\" \",\" \",\" \",\" \"]) == True\n",
        "assert lists_same([\"$\",\"$\",\"@\",\"@\",\"#\",\"#\"], [\"S\",\"$\",\"@\",\"@\",\"#\",\"#\"]) == False"
      ],
      "execution_count": 0,
      "outputs": []
    },
    {
      "cell_type": "markdown",
      "metadata": {
        "id": "RRiVwiqGQtST",
        "colab_type": "text"
      },
      "source": [
        "# **Collatz**\n",
        "\n",
        "The following iterative sequence is defined for the set of positive integers:\n",
        "\n",
        "n = n// 2, n is even\n",
        "\n",
        "n = 3*n + 1, n is odd\n",
        "\n",
        "Using the rule above and starting with 13, we generate the following sequence:\n",
        "\n",
        "13 -- 40 -- 20 -- 10 -- 5 -- 16 -- 8 -- 4 -- 2 -- 1\n",
        "\n",
        "Write python program which produces the longest chain? If many possible such numbers are there print the maximum one."
      ]
    },
    {
      "cell_type": "code",
      "metadata": {
        "id": "EfeNDGaaQtbS",
        "colab_type": "code",
        "colab": {}
      },
      "source": [
        "#Your code goes here\n",
        "\n",
        "\n",
        "assert longest_collatz(13) ==  9\n",
        "assert longest_collatz(12) == 9\n",
        "assert longest_collatz(19) == 19\n",
        "assert longest_collatz(18) == 18\n",
        "assert longest_collatz(27) == 27\n",
        "assert longest_collatz(55) == 55\n",
        "assert longest_collatz(82) == 73\n",
        "assert longest_collatz(129) == 129\n",
        "assert longest_collatz(391) == 327\n",
        "assert longest_collatz(7578) == 6171\n",
        "assert longest_collatz(28983) == 26623\n",
        "assert longest_collatz(52610) == 52527\n",
        "assert longest_collatz(4999991) == 3732423"
      ],
      "execution_count": 0,
      "outputs": []
    }
  ]
}