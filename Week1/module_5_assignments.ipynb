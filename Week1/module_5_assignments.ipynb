{
  "nbformat": 4,
  "nbformat_minor": 0,
  "metadata": {
    "colab": {
      "name": "Module_5_Assignments.ipynb",
      "version": "0.3.2",
      "provenance": [],
      "collapsed_sections": []
    },
    "kernelspec": {
      "name": "python3",
      "display_name": "Python 3"
    }
  },
  "cells": [
    {
      "cell_type": "markdown",
      "metadata": {
        "id": "TML9R_2gqMSc",
        "colab_type": "text"
      },
      "source": [
        "#Problem set"
      ]
    },
    {
      "cell_type": "markdown",
      "metadata": {
        "id": "0Bzhli7KoHE8",
        "colab_type": "text"
      },
      "source": [
        "**Implement a function count that takes a HTML string and returns the count of records in the table**\n",
        "\n",
        "The sample table given above has 6 rows. So, given this HTML string the function should return 6 as the count of rows. If there are no rows in the table then the count should be 0."
      ]
    },
    {
      "cell_type": "code",
      "metadata": {
        "id": "exxyjGUKoSg7",
        "colab_type": "code",
        "colab": {}
      },
      "source": [
        "def count(html):\n",
        "  #code\n",
        "  pass\n",
        "assert count('''<table><tr><th>Person</th><th>Age</th></tr><tr><td>Bob</td><td>45</td></tr><tr><td>Eric</td><td>23</td></tr><tr><td>Ed</td><td>35</td></tr><tr><td>Tom</td><td>67</td></tr><tr><td>Amy</td><td>19</td></tr><tr><td>Rose</td><td>32</td></tr></table>\n",
        "''') == 6\n",
        "assert count('''<table><tr><th>Person</th><th>Age</th></tr><tr><td>Bob</td><td>45</td></tr><tr><td>Eric</td><td>23</td></tr><tr><td>Ed</td><td>35</td></tr></table>\n",
        "''') == 3\n",
        "assert count('''<table><tr><th>Person</th><th>Age</th></tr><tr><td>Bob</td><td>45</td></tr></table>''') == 1\n",
        "assert count(\"\") == 0\n",
        "print(\"All testcases are passed\")"
      ],
      "execution_count": 0,
      "outputs": []
    },
    {
      "cell_type": "markdown",
      "metadata": {
        "id": "TocY633NbDkD",
        "colab_type": "text"
      },
      "source": [
        "#Happy Number\n",
        "Write a program to find whether the given number is a happy\n",
        "number or not.\n",
        "\n",
        "A number is called happy if it leads to 1 after a sequence of steps where in each step number is replaced by sum of squares of its digit that is if we start with Happy Number and keep replacing it with digits square sum, we reach 1.\n",
        "\n",
        "Example :\n",
        "Input: n = 19\n",
        "Output: True\n",
        "                19 is Happy Number,\n",
        "                1^2 + 9^2 = 82\n",
        "                8^2 + 2^2 = 68\n",
        "                6^2 + 8^2 = 100\n",
        "                1^2 + 0^2 + 0^2 = 1\n",
        "As we reached to 1, 19 is a Happy Number.\n",
        "\n",
        "Input: n = 20\n",
        "Output: False"
      ]
    },
    {
      "cell_type": "code",
      "metadata": {
        "id": "IHS4TH-ybJld",
        "colab_type": "code",
        "outputId": "779c62d6-f01c-4395-bd66-96e6363747ac",
        "colab": {
          "base_uri": "https://localhost:8080/",
          "height": 251
        }
      },
      "source": [
        "def is_happy(num):\n",
        "  #code\n",
        "  pass\n",
        "assert is_happy(1) == \"Happy Number\"\n",
        "assert is_happy(2) == \"Not a Happy Number\"\n",
        "assert is_happy(3) == \"Not a Happy Number\"\n",
        "assert is_happy(4) == \"Not a Happy Number\"\n",
        "assert is_happy(5) == \"Not a Happy Number\"\n",
        "assert is_happy(6) == \"Not a Happy Number\"\n",
        "assert is_happy(7) == \"Happy Number\"\n",
        "assert is_happy(8) == \"Not a Happy Number\"\n",
        "assert is_happy(10) == \"Happy Number\"\n",
        "assert is_happy(13) == \"Happy Number\"\n",
        "assert is_happy(19) == \"Happy Number\"\n",
        "assert is_happy(3456) == \"Happy Number\"\n",
        "assert is_happy(100) == \"Happy Number\"\n",
        "assert is_happy(123321) == \"Happy Number\"\n"
      ],
      "execution_count": 0,
      "outputs": [
        {
          "output_type": "error",
          "ename": "AssertionError",
          "evalue": "ignored",
          "traceback": [
            "\u001b[0;31m---------------------------------------------------------------------------\u001b[0m",
            "\u001b[0;31mAssertionError\u001b[0m                            Traceback (most recent call last)",
            "\u001b[0;32m<ipython-input-2-f6b0c4f6d39a>\u001b[0m in \u001b[0;36m<module>\u001b[0;34m()\u001b[0m\n\u001b[1;32m      2\u001b[0m   \u001b[0;31m#code\u001b[0m\u001b[0;34m\u001b[0m\u001b[0;34m\u001b[0m\u001b[0;34m\u001b[0m\u001b[0m\n\u001b[1;32m      3\u001b[0m   \u001b[0;32mpass\u001b[0m\u001b[0;34m\u001b[0m\u001b[0;34m\u001b[0m\u001b[0m\n\u001b[0;32m----> 4\u001b[0;31m \u001b[0;32massert\u001b[0m \u001b[0mis_happy\u001b[0m\u001b[0;34m(\u001b[0m\u001b[0;36m1\u001b[0m\u001b[0;34m)\u001b[0m \u001b[0;34m==\u001b[0m \u001b[0;34m\"Happy Number\"\u001b[0m\u001b[0;34m\u001b[0m\u001b[0;34m\u001b[0m\u001b[0m\n\u001b[0m\u001b[1;32m      5\u001b[0m \u001b[0;32massert\u001b[0m \u001b[0mis_happy\u001b[0m\u001b[0;34m(\u001b[0m\u001b[0;36m2\u001b[0m\u001b[0;34m)\u001b[0m \u001b[0;34m==\u001b[0m \u001b[0;34m\"Not a Happy Number\"\u001b[0m\u001b[0;34m\u001b[0m\u001b[0;34m\u001b[0m\u001b[0m\n\u001b[1;32m      6\u001b[0m \u001b[0;32massert\u001b[0m \u001b[0mis_happy\u001b[0m\u001b[0;34m(\u001b[0m\u001b[0;36m3\u001b[0m\u001b[0;34m)\u001b[0m \u001b[0;34m==\u001b[0m \u001b[0;34m\"Not a Happy Number\"\u001b[0m\u001b[0;34m\u001b[0m\u001b[0;34m\u001b[0m\u001b[0m\n",
            "\u001b[0;31mAssertionError\u001b[0m: "
          ]
        }
      ]
    },
    {
      "cell_type": "markdown",
      "metadata": {
        "id": "O-JehmPAqKho",
        "colab_type": "text"
      },
      "source": [
        ""
      ]
    },
    {
      "cell_type": "markdown",
      "metadata": {
        "id": "iBQ6qsAhBpBP",
        "colab_type": "text"
      },
      "source": [
        "At the annual meeting of Board of Directors of Acme Inc, every one starts shaking hands with everyone else in the room. Given the fact that any two persons shake hand exactly once, Can you tell the total count of handshakes? \"n\"  is the total number of Board of Directors of Acme.\n",
        "Example :\n",
        "\n",
        "\n",
        "1.  Sample Input : 1\n",
        "Output :  0\n",
        "        Explanation : The lonely board member shakes no hands, hence 0. \n",
        "        \n",
        "2.  Sample Input : 2\n",
        "Output: 1\n",
        "          Explanation:  There are 2 board members, 1 handshake takes place.\n",
        "\n"
      ]
    },
    {
      "cell_type": "code",
      "metadata": {
        "id": "uS9BRZn4Bq7A",
        "colab_type": "code",
        "colab": {}
      },
      "source": [
        "def handshake(n):\n",
        "    #code  \n",
        "assert handshake(2)==1\n",
        "assert handshake(5)==10\n",
        "assert handshake(6)==15\n",
        "assert handshake(0)==0\n",
        "assert handshake(1)==0\n",
        "assert handshake(-1)==\"invalid\"\n",
        "assert handshake(55)==1485\n",
        "assert handshake(100)==4950\n",
        "print(\" All the testcases are passed\")"
      ],
      "execution_count": 0,
      "outputs": []
    },
    {
      "cell_type": "markdown",
      "metadata": {
        "id": "2KsBrgN8GhZ-",
        "colab_type": "text"
      },
      "source": [
        "1.  Assume s is a string of lower case characters.\n",
        "\n",
        "Write a program that prints the longest substring of s in which the letters occur in alphabetical order. For example, if s = 'azcbobobegghakl', then your program should print\n",
        "\n",
        "Longest substring in alphabetical order is: beggh\n",
        "\n",
        "In the case of ties, print the first substring. For example, if s = 'abcbcd', then your program should print\n",
        "\n",
        "Longest substring in alphabetical order is: abc"
      ]
    },
    {
      "cell_type": "code",
      "metadata": {
        "id": "gitqTeclH3cw",
        "colab_type": "code",
        "colab": {}
      },
      "source": [
        "def longest_substring(str):\n",
        "    #code\n",
        "    pass\n",
        "assert longest_substring('azcbobobegghakl') == 'beggh'\n",
        "assert longest_substring('abcbcd') == 'abc'\n",
        "assert longest_substring('abcdefghijklnmopqrstuvwxyz'  ) ==  'abcdefghijkln'\n",
        "assert longest_substring(   'aeiou' ) ==  'aeiou'\n",
        "assert longest_substring( 'zerty' ) ==   'erty'\n",
        "\n",
        "print(\" All the testcases are passed!\")\n",
        "        \n",
        "           \n",
        "              \n",
        "    "
      ],
      "execution_count": 0,
      "outputs": []
    },
    {
      "cell_type": "markdown",
      "metadata": {
        "id": "JV2anVmthFY1",
        "colab_type": "text"
      },
      "source": [
        "2. Assume s is a string of lower case characters.\n",
        "\n",
        "Write a program that prints the number of times the string 'bob' occurs in s. For example, if s = 'azcbobobegghakl', then your program should print\n",
        "\n",
        "Number of times bob occurs is: 2"
      ]
    },
    {
      "cell_type": "code",
      "metadata": {
        "id": "1L60nqz9j5gc",
        "colab_type": "code",
        "colab": {}
      },
      "source": [
        "def bob_counter(str):\n",
        "  #code\n",
        "  pass\n",
        "assert bob_counter('azcbobobegghakl') == 2\n",
        "assert bob_counter('bobmarley' ) == 1\n",
        "assert bob_counter('bobobobobobob') == 6\n",
        "assert bob_counter('bbobobyr') == 2\n",
        "assert bob_counter('tyuyjbkjbbob') == 1\n",
        "print(\" All the testcases are passed!\")\n",
        "\n",
        "\n",
        "\n",
        "\n"
      ],
      "execution_count": 0,
      "outputs": []
    },
    {
      "cell_type": "markdown",
      "metadata": {
        "id": "pNk57dgalyJ6",
        "colab_type": "text"
      },
      "source": [
        "3. Assume s is a string of lower case characters.\n",
        "\n",
        "Write a program that counts up the number of vowels contained in the string s. Valid vowels are: 'a', 'e', 'i', 'o', and 'u'. For example, if s = 'azcbobobegghakl', your program should print:\n",
        "\n",
        "Number of vowels: 5"
      ]
    },
    {
      "cell_type": "code",
      "metadata": {
        "id": "8wmSVEMDl0SM",
        "colab_type": "code",
        "colab": {}
      },
      "source": [
        "def vowels_counter(str):\n",
        "  #code\n",
        "  pass\n",
        "assert vowels_counter(\"aeiou\")==5\n",
        "assert vowels_counter(\"crwth\")==0\n",
        "assert vowels_counter(\"\")==0\n",
        "assert vowels_counter(\"vowels\")==2\n",
        "print(\" All the testcases are passed!\")\n"
      ],
      "execution_count": 0,
      "outputs": []
    },
    {
      "cell_type": "markdown",
      "metadata": {
        "id": "_S0E3owWvgc0",
        "colab_type": "text"
      },
      "source": [
        "7.Given a number n, find the product of all the digits"
      ]
    },
    {
      "cell_type": "code",
      "metadata": {
        "colab_type": "code",
        "id": "5kMpZkmIMzo0",
        "colab": {}
      },
      "source": [
        "def digits_product(n):\n",
        "  #code\n",
        "  pass\n",
        "assert digits_product(123) == 6\n",
        "assert digits_product(709) == 0\n",
        "assert digits_product(-12345) == -120\n",
        "assert digits_product(0) == 0\n",
        "assert digits_product(0) == 0\n",
        "assert digits_product(1230455342345666866532456886333421466886789987654321) == 0\n",
        "assert digits_product(123123455342345666866532456886333421466886789987654321455342345666866532456886333421466886789987654321) == 26343258099627654327931534826024187097499630353514496000000000000 \n",
        "print(\"All the testcases are passed\")"
      ],
      "execution_count": 0,
      "outputs": []
    }
  ]
}