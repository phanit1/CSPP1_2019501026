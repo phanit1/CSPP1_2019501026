{
  "nbformat": 4,
  "nbformat_minor": 0,
  "metadata": {
    "colab": {
      "name": "Iterations Assignment - 1.ipynb",
      "version": "0.3.2",
      "provenance": []
    },
    "kernelspec": {
      "name": "python3",
      "display_name": "Python 3"
    }
  },
  "cells": [
    {
      "cell_type": "markdown",
      "metadata": {
        "id": "2QqlzuAxxyMw",
        "colab_type": "text"
      },
      "source": [
        "# Problem set on iterations"
      ]
    },
    {
      "cell_type": "markdown",
      "metadata": {
        "id": "Eu7tOs_Mx3Z8",
        "colab_type": "text"
      },
      "source": [
        "Given a string and a non-negative int n, return a larger string that is n copies of the original string.\n",
        "\n"
      ]
    },
    {
      "cell_type": "code",
      "metadata": {
        "id": "x2XF1-xYygTk",
        "colab_type": "code",
        "colab": {}
      },
      "source": [
        "def string_times(str, n):\n",
        "  #code\n",
        "  pass\n",
        "assert string_times('Hi', 2) ==\t'HiHi'\t\t\n",
        "assert string_times('Hi', 3) ==\t'HiHiHi'\t\t\n",
        "assert string_times('Hi', 1) ==\t'Hi'\t\t\n",
        "assert string_times('Hi', 0) == ''\t\n",
        "assert string_times('Hi', 5) ==\t'HiHiHiHiHi'\t\t\n",
        "assert string_times('Oh Boy!', 2) == 'Oh Boy!Oh Boy!'\n",
        "assert string_times('x', 4) ==\t'xxxx'\t\t\n",
        "assert string_times('', 4) == ''\t\n",
        "assert string_times('code', 2) ==\t'codecode'\t\t\n",
        "assert string_times('code', 3) ==\t'codecodecode'\t\n",
        "print(\" All the testcases are passed!\")"
      ],
      "execution_count": 0,
      "outputs": []
    },
    {
      "cell_type": "markdown",
      "metadata": {
        "id": "6sugoTxMzZnq",
        "colab_type": "text"
      },
      "source": [
        "\n",
        "2. Given a string and a non-negative int n, we'll say that the front of the string is the first 3 chars, or whatever is there if the string is less than length 3. Return n copies of the front;"
      ]
    },
    {
      "cell_type": "code",
      "metadata": {
        "id": "rYu182YozcKX",
        "colab_type": "code",
        "colab": {}
      },
      "source": [
        "def front_times(str, n):\n",
        "  #code\n",
        "  pass\n",
        "assert front_times('Chocolate', 2) ==\t'ChoCho'\t\t\n",
        "assert front_times('Chocolate', 3) ==\t'ChoChoCho'\t\t\n",
        "assert front_times('Abc', 3) ==\t'AbcAbcAbc'\t\t\n",
        "assert front_times('Ab', 4) ==\t'AbAbAbAb'\t\t\n",
        "assert front_times('A', 4) ==\t'AAAA'\t\t\n",
        "assert front_times('', 4) == ''\t\t\n",
        "assert front_times('Abc', 0) == ''\n",
        "print(\" All the testcases are passed!\")\n"
      ],
      "execution_count": 0,
      "outputs": []
    },
    {
      "cell_type": "markdown",
      "metadata": {
        "id": "dHJy8wdKkb1S",
        "colab_type": "text"
      },
      "source": [
        "3. Given a string, return a new string made of every other char starting with the first, so \"Hello\" yields \"Hlo\"."
      ]
    },
    {
      "cell_type": "code",
      "metadata": {
        "id": "FTF8RGyakgdY",
        "colab_type": "code",
        "colab": {}
      },
      "source": [
        "def string_bits(str):\n",
        "  #code\n",
        "  pass\n",
        "assert string_bits('Hello') ==\t'Hlo'\t\t\n",
        "assert string_bits('Hi') ==\t'H'\t\t\n",
        "assert string_bits('Heeololeo') ==\t'Hello'\t\t\n",
        "assert string_bits('HiHiHi') ==\t'HHH'\t\t\n",
        "assert string_bits('') == ''\t\t\n",
        "assert string_bits('Greetings') ==\t'Getns'\t\t\n",
        "assert string_bits('Chocoate') ==\t'Coot'\t\t\n",
        "assert string_bits('pi') ==\t'p'\t\t\n",
        "assert string_bits('Hello Kitten') ==\t'HloKte'\t\t\n",
        "assert string_bits('hxaxpxpxy') ==\t'happy'\t\t\n",
        "print(\" All the testcases are passed!\")\n"
      ],
      "execution_count": 0,
      "outputs": []
    },
    {
      "cell_type": "markdown",
      "metadata": {
        "id": "cJ6PxFjxky-K",
        "colab_type": "text"
      },
      "source": [
        "4. Given a non-empty string like \"Code\" return a string like \"CCoCodCode\"."
      ]
    },
    {
      "cell_type": "code",
      "metadata": {
        "id": "dkoo3n3Dk4eC",
        "colab_type": "code",
        "colab": {}
      },
      "source": [
        "def string_splosion(str):\n",
        "  #code\n",
        "  pass\n",
        "assert string_splosion('Code') ==\t'CCoCodCode'\t\t\n",
        "assert string_splosion('abc') ==\t'aababc'\t\t\n",
        "assert string_splosion('ab') ==\t'aab'\t\t\n",
        "assert string_splosion('x') ==\t'x'\t\t\n",
        "assert string_splosion('fade') ==\t'ffafadfade'\t\t\n",
        "assert string_splosion('There') ==\t'TThTheTherThere'\t\t\n",
        "assert string_splosion('Kitten') ==\t'KKiKitKittKitteKitten'\t\t\n",
        "assert string_splosion('Bye') ==\t'BByBye'\t\t\n",
        "assert string_splosion('Good') ==\t'GGoGooGood'\t\t\n",
        "assert string_splosion('Bad') ==\t'BBaBad'\n",
        "print(\" All the testcases are passed!\")\n"
      ],
      "execution_count": 0,
      "outputs": []
    },
    {
      "cell_type": "markdown",
      "metadata": {
        "id": "ORkJiSRElEzz",
        "colab_type": "text"
      },
      "source": [
        "5. Given a string, return the count of the number of times that a substring length 2 appears in the string and also as the last 2 chars of the string, so \"hixxxhi\" yields 1 (we won't count the end substring).\n",
        "\n"
      ]
    },
    {
      "cell_type": "code",
      "metadata": {
        "id": "0oiToEcIlNWH",
        "colab_type": "code",
        "colab": {}
      },
      "source": [
        "def last2(str):\n",
        "  #code\n",
        "  pass\n",
        "assert last2('hixxhi') == 1\n",
        "assert last2('xaxxaxaxx') == 1\n",
        "assert last2('axxxaaxx') == 2\n",
        "assert last2('xxaxxaxxaxx') == 3\n",
        "assert last2('xaxaxaxx') == 0\n",
        "assert last2('xxxx') == 2\n",
        "assert last2('13121312') == 1\n",
        "assert last2('11212') == 1\n",
        "assert last2('13121311') == 0\t\n",
        "assert last2('1717171') == 2\n",
        "assert last2('hi') == 0\n",
        "assert last2('h') == 0\n",
        "assert last2('') == 0\n",
        "print(\" All the testcases are passed!\")\n"
      ],
      "execution_count": 0,
      "outputs": []
    },
    {
      "cell_type": "markdown",
      "metadata": {
        "id": "bLGRHNU5lk9Y",
        "colab_type": "text"
      },
      "source": [
        "6. Given 2 strings, a and b, return the number of the positions where they contain the same length 2 substring. So \"xxcaazz\" and \"xxbaaz\" yields 3, since the \"xx\", \"aa\", and \"az\" substrings appear in the same place in both strings.\n",
        "\n"
      ]
    },
    {
      "cell_type": "code",
      "metadata": {
        "id": "y-n2GDxZlnAs",
        "colab_type": "code",
        "colab": {}
      },
      "source": [
        "def string_match(a, b):\n",
        "    #code\n",
        "    pass\n",
        "assert string_match('xxcaazz', 'xxbaaz') == 3\t\n",
        "assert string_match('abc', 'abc') == 2\t\n",
        "assert string_match('abc', 'axc') == 0\t\n",
        "assert string_match('hello', 'he') == 1\n",
        "assert string_match('he', 'hello') == 1\n",
        "assert string_match('h', 'hello') == 0\t\n",
        "assert string_match('', 'hello') == 0\t\n",
        "assert string_match('aabbccdd', 'abbbxxd') == 1\n",
        "assert string_match('aaxxaaxx', 'iaxxai') == 3\n",
        "assert string_match('iaxxai', 'aaxxaaxx') == 3\n",
        "print(\" All the testcases are passed!\")\n"
      ],
      "execution_count": 0,
      "outputs": []
    },
    {
      "cell_type": "markdown",
      "metadata": {
        "id": "kXRotXI8mAiT",
        "colab_type": "text"
      },
      "source": [
        "7. Given a string, return a string where for every char in the original, there are two chars."
      ]
    },
    {
      "cell_type": "code",
      "metadata": {
        "id": "kGPKN4JhmDMa",
        "colab_type": "code",
        "colab": {}
      },
      "source": [
        "def double_char(str):\n",
        "  #code\n",
        "  pass\n",
        "assert double_char('The') ==\t'TThhee'\t\t\n",
        "assert double_char('AAbb') ==\t'AAAAbbbb'\t\t\n",
        "assert double_char('Hi-There') == 'HHii--TThheerree'\t\t\n",
        "assert double_char('Word!') == 'WWoorrdd!!'\t\t\n",
        "assert double_char('!!') == '!!!!'\t\t\n",
        "assert double_char('') == ''\t\t\t\n",
        "assert double_char('a') ==\t'aa'\t\t\n",
        "assert double_char('.') == '..'\t\n",
        "assert double_char('aa') ==\t'aaaa'\t\t\n",
        "print(\" All the testcases are passed!\")\n",
        "\n"
      ],
      "execution_count": 0,
      "outputs": []
    },
    {
      "cell_type": "markdown",
      "metadata": {
        "id": "0YV63aXHmTbB",
        "colab_type": "text"
      },
      "source": [
        "8. Return the number of times that the string \"hi\" appears anywhere in the given string."
      ]
    },
    {
      "cell_type": "code",
      "metadata": {
        "id": "Mqk83JwpmXaB",
        "colab_type": "code",
        "colab": {}
      },
      "source": [
        "def count_hi(str):\n",
        "  #code\n",
        "  pass\n",
        "assert count_hi('abc hi ho') == 1\t\t\n",
        "assert count_hi('ABChi hi') == 2\t\t\n",
        "assert count_hi('hihi') == 2\t\t\n",
        "assert count_hi('hiHIhi') == 2\t\t\n",
        "assert count_hi('') == 0\t\n",
        "assert count_hi('h') == 0\n",
        "assert count_hi('hi') == 1\t\n",
        "assert count_hi('Hi is no HI on ahI') == 0\t\t\n",
        "assert count_hi('hiho not HOHIhi') == 2\n",
        "print(\" All the testcases are passed!\")"
      ],
      "execution_count": 0,
      "outputs": []
    },
    {
      "cell_type": "markdown",
      "metadata": {
        "id": "Pcs1zwmqn58r",
        "colab_type": "text"
      },
      "source": [
        "9. Return True if the string \"cat\" and \"dog\" appear the same number of times in the given string."
      ]
    },
    {
      "cell_type": "code",
      "metadata": {
        "id": "8MfuZcFqn82D",
        "colab_type": "code",
        "colab": {}
      },
      "source": [
        "def cat_dog(str):\n",
        "  #code\n",
        "  pass\n",
        "assert cat_dog('catdog') == True\t\t\n",
        "assert cat_dog('catcat') == False\n",
        "assert cat_dog('1cat1cadodog') == True\t\n",
        "assert cat_dog('catxxdogxxxdog') == False\t\n",
        "assert cat_dog('catxdogxdogxcat') == True\t\n",
        "assert cat_dog('catxdogxdogxca') == False\n",
        "assert cat_dog('dogdogcat') == False\n",
        "assert cat_dog('dogogcat') == True\n",
        "assert cat_dog('dog') == False\t\n",
        "assert cat_dog('cat') == False\n",
        "assert cat_dog('ca') == True\n",
        "assert cat_dog('c') == True\n",
        "assert cat_dog('') == True\n",
        "print(\" All the testcases are passed!\")\n"
      ],
      "execution_count": 0,
      "outputs": []
    },
    {
      "cell_type": "markdown",
      "metadata": {
        "id": "4t0oNT-Co2f9",
        "colab_type": "text"
      },
      "source": [
        "10. Return the number of times that the string \"code\" appears anywhere in the given string, except we'll accept any letter for the 'd', so \"cope\" and \"cooe\" count.\n",
        "\n"
      ]
    },
    {
      "cell_type": "code",
      "metadata": {
        "id": "xed7ybfIpDEY",
        "colab_type": "code",
        "colab": {}
      },
      "source": [
        "def count_code(str):\n",
        "  #code\n",
        "  pass\n",
        "assert count_code('aaacodebbb') == 1\t\t\n",
        "assert count_code('codexxcode') == 2\t\t\n",
        "assert count_code('cozexxcope') == 2\t\t\n",
        "assert count_code('cozfxxcope') == 1\t\n",
        "assert count_code('xxcozeyycop') == 1\t\n",
        "assert count_code('cozcop') == 0\t\n",
        "assert count_code('abcxyz') == 0\t\n",
        "assert count_code('code') == 1\t\n",
        "assert count_code('ode') == 0\t\n",
        "assert count_code('c') == 0\t\n",
        "assert count_code('') == 0\t\n",
        "assert count_code('AAcodeBBcoleCCccoreDD') == 3\n",
        "assert count_code('AAcodeBBcoleCCccorfDD') == 2\n",
        "assert count_code('coAcodeBcoleccoreDD') == 3\n",
        "print(\" All the testcases are passed!\")"
      ],
      "execution_count": 0,
      "outputs": []
    },
    {
      "cell_type": "markdown",
      "metadata": {
        "id": "ya0xKHYypQPh",
        "colab_type": "text"
      },
      "source": [
        "11. Given two strings, return True if either of the strings appears at the very end of the other string, ignoring upper/lower case differences (in other words, the computation should not be \"case sensitive\"). Note: s.lower() returns the lowercase version of a string."
      ]
    },
    {
      "cell_type": "code",
      "metadata": {
        "id": "YAiQbE9LpdzF",
        "colab_type": "code",
        "colab": {}
      },
      "source": [
        "def end_other(a, b):\n",
        "  #code\n",
        "  pass\n",
        "assert end_other('Hiabc', 'abc') == True\t\n",
        "assert end_other('AbC', 'HiaBc') == True\n",
        "assert end_other('abc', 'abXabc') == True\n",
        "assert end_other('Hiabc', 'abcd') == False\n",
        "assert end_other('Hiabc', 'bc') == True\n",
        "assert end_other('Hiabcx', 'bc') == False\n",
        "assert end_other('abc', 'abc') == True\n",
        "assert end_other('xyz', '12xyz') == True\n",
        "assert end_other('yz', '12xz') == False\t\n",
        "assert end_other('Z', '12xz') == True\n",
        "assert end_other('12', '12') == True\n",
        "assert end_other('abcXYZ', 'abcDEF') == False\n",
        "assert end_other('ab', 'ab12') == False\n",
        "assert end_other('ab', '12ab') == True\n",
        "print(\" All the testcases are passed!\")\n"
      ],
      "execution_count": 0,
      "outputs": []
    },
    {
      "cell_type": "markdown",
      "metadata": {
        "id": "xCx1efUkpoRC",
        "colab_type": "text"
      },
      "source": [
        "12. Return True if the given string contains an appearance of \"xyz\" where the xyz is not directly preceeded by a period (.). So \"xxyz\" counts but \"x.xyz\" does not."
      ]
    },
    {
      "cell_type": "code",
      "metadata": {
        "id": "muBxNuVRp0gl",
        "colab_type": "code",
        "colab": {}
      },
      "source": [
        "def xyz_there(str):\n",
        "  #code\n",
        "  pass\n",
        "assert xyz_there('abcxyz') == True\n",
        "assert xyz_there('abc.xyz') == False\n",
        "assert xyz_there('xyz.abc') == True\n",
        "assert xyz_there('abcxy') == False\n",
        "assert xyz_there('xyz') == True\n",
        "assert xyz_there('xy') == False\t\t\n",
        "assert xyz_there('x') == False\t\n",
        "assert xyz_there('') == False\n",
        "assert xyz_there('abc.xyzxyz') == True\n",
        "assert xyz_there('abc.xxyz') == True\n",
        "assert xyz_there('.xyz') == False\n",
        "assert xyz_there('12.xyz') == False\n",
        "assert xyz_there('12xyz') == True\n",
        "assert xyz_there('1.xyz.xyz2.xyz') == False\n",
        "print(\" All the testcases are passed!\")\n"
      ],
      "execution_count": 0,
      "outputs": []
    },
    {
      "cell_type": "markdown",
      "metadata": {
        "id": "dyEcb-C3ERtt",
        "colab_type": "text"
      },
      "source": [
        "Given a string, return a string where for every char in the original, there are two chars."
      ]
    },
    {
      "cell_type": "code",
      "metadata": {
        "id": "63570icHMLJ-",
        "colab_type": "code",
        "colab": {}
      },
      "source": [
        "def double_char(str):\n",
        "  pass\n",
        "assert double_char('Hi-There') == 'HHii--TThheerree'\n",
        "assert double_char('Word!') == 'WWoorrdd!!'\t\n",
        "assert double_char('!!') == '!!!!'\n",
        "assert double_char('') == ''\n",
        "assert double_char('a') == 'aa'\n",
        "assert double_char('.') == '..'\n",
        "assert double_char('aa') == 'aaaa'\n",
        "print(\" All the testcases are passed! \")"
      ],
      "execution_count": 0,
      "outputs": []
    }
  ]
}