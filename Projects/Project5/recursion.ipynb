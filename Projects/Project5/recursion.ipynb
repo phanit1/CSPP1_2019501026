{
  "nbformat": 4,
  "nbformat_minor": 0,
  "metadata": {
    "colab": {
      "name": "Recursion.ipynb",
      "version": "0.3.2",
      "provenance": []
    },
    "kernelspec": {
      "name": "python3",
      "display_name": "Python 3"
    }
  },
  "cells": [
    {
      "cell_type": "markdown",
      "metadata": {
        "id": "d5TFAYGAKE9n",
        "colab_type": "text"
      },
      "source": [
        "#factorial\n",
        "Write a program using recursion to find the factorial of given number"
      ]
    },
    {
      "cell_type": "code",
      "metadata": {
        "id": "jDsi2INiKPF7",
        "colab_type": "code",
        "colab": {}
      },
      "source": [
        ""
      ],
      "execution_count": 0,
      "outputs": []
    },
    {
      "cell_type": "markdown",
      "metadata": {
        "id": "XzRy7VDWKRRQ",
        "colab_type": "text"
      },
      "source": [
        "#palindrome\n",
        "Write a program using recursion  to check whether the given string is palindrome or not"
      ]
    },
    {
      "cell_type": "code",
      "metadata": {
        "id": "4sxvoGpZKZvC",
        "colab_type": "code",
        "colab": {}
      },
      "source": [
        ""
      ],
      "execution_count": 0,
      "outputs": []
    },
    {
      "cell_type": "markdown",
      "metadata": {
        "id": "rKPTaXguNGDR",
        "colab_type": "text"
      },
      "source": [
        "#bunnyEars\n",
        "We have a number of bunnies and each bunny has two big floppy ears. We want to compute the total number of ears across all the bunnies recursively (without loops or multiplication)."
      ]
    },
    {
      "cell_type": "code",
      "metadata": {
        "id": "KSrKvNndNnBt",
        "colab_type": "code",
        "colab": {}
      },
      "source": [
        "\n",
        "assert bunnyEars(0) == 0  \n",
        "assert bunnyEars(1) == 2\n",
        "assert bunnyEars(2) == 4\n",
        "assert bunnyEars(3) == 6\t\n",
        "assert bunnyEars(4) == 8\n",
        "assert bunnyEars(5) == 10\n",
        "assert bunnyEars(12) == 24\n",
        "assert bunnyEars(50) == 100\n",
        "assert bunnyEars(234) == 468"
      ],
      "execution_count": 0,
      "outputs": []
    },
    {
      "cell_type": "markdown",
      "metadata": {
        "id": "0eNbgl5zPBpR",
        "colab_type": "text"
      },
      "source": [
        "#bunnyEars2\n",
        "We have bunnies standing in a line, numbered 1, 2, ... The odd bunnies (1, 3, ..) have the normal 2 ears. The even bunnies (2, 4, ..) we'll say have 3 ears, because they each have a raised foot. Recursively return the number of \"ears\" in the bunny line 1, 2, ... n (without loops or multiplication)."
      ]
    },
    {
      "cell_type": "code",
      "metadata": {
        "id": "3MZLQLdGPIo7",
        "colab_type": "code",
        "colab": {}
      },
      "source": [
        "assert bunnyEars2(0) == 0\n",
        "assert bunnyEars2(1) == 2\n",
        "assert bunnyEars2(2) == 5\n",
        "assert bunnyEars2(3) == 7\n",
        "assert bunnyEars2(4) == 10\n",
        "assert bunnyEars2(5) == 12\n",
        "assert bunnyEars2(6) == 15\n",
        "assert bunnyEars2(10) == 25"
      ],
      "execution_count": 0,
      "outputs": []
    },
    {
      "cell_type": "markdown",
      "metadata": {
        "id": "KAyen_XVPcfL",
        "colab_type": "text"
      },
      "source": [
        "We have  triangle made of blocks. The topmost row has 1 block, the next row down has 2 blocks, the next row has 3 blocks, and so on. Compute recursively (no loops or multiplication) the total number of blocks in such a triangle with the given number of rows."
      ]
    },
    {
      "cell_type": "code",
      "metadata": {
        "id": "SNthH6i7PfTy",
        "colab_type": "code",
        "colab": {}
      },
      "source": [
        "assert triangle(0) == 0\n",
        "assert triangle(1) == 1\n",
        "assert triangle(2) == 3\n",
        "assert triangle(3) == 6\n",
        "assert triangle(4) == 10\n",
        "assert triangle(5) == 15\n",
        "assert triangle(6) == 21\n",
        "assert triangle(7) == 28"
      ],
      "execution_count": 0,
      "outputs": []
    },
    {
      "cell_type": "markdown",
      "metadata": {
        "id": "DqOjR0VaNmYM",
        "colab_type": "text"
      },
      "source": [
        "Given a string, return recursively a \"cleaned\" string where adjacent chars that are the same have been reduced to a single char. So \"yyzzza\" yields \"yza\"."
      ]
    },
    {
      "cell_type": "code",
      "metadata": {
        "id": "UdX6O9PWP30O",
        "colab_type": "code",
        "colab": {}
      },
      "source": [
        "assert tstringClean(\"yyzzza\") == \"yza\"\n",
        "assert tstringClean(\"abbbcdd\") == \"abcd\"\n",
        "assert tstringClean(\"Hello\") == \"Helo\"\n",
        "assert tstringClean(\"XXabcYY\") == \"XabcY\"\n",
        "assert tstringClean(\"112ab445\") == \"12ab45\"\n",
        "assert tstringClean(\"Hello Bookkeeper\") == \"Helo Bookkeper\""
      ],
      "execution_count": 0,
      "outputs": []
    },
    {
      "cell_type": "markdown",
      "metadata": {
        "id": "rPfA_EEAsIcz",
        "colab_type": "text"
      },
      "source": [
        "# strDist \n",
        "Given a string and a non-empty substring sub, compute recursively the largest substring which starts and ends with sub and return its length."
      ]
    },
    {
      "cell_type": "code",
      "metadata": {
        "id": "wlGj-MK1sM0K",
        "colab_type": "code",
        "colab": {}
      },
      "source": [
        "assert strDist(\"catcowcat\", \"cat\") == 9\t\n",
        "assert strDist(\"catcowcat\", \"cow\") == 3\t\n",
        "assert strDist(\"cccatcowcatxx\", \"cat\") == 9\t\n",
        "assert strDist(\"abccatcowcatcatxyz\", \"cat\") == 12\n",
        "assert strDist(\"xyx\", \"x\") == 3\n",
        "assert strDist(\"xyx\", \"y\") == 1\n",
        "assert strDist(\"xyx\", \"z\") == 0\n",
        "assert strDist(\"z\", \"z\") == 1\t\n",
        "assert strDist(\"x\", \"z\") == 0\t\n",
        "assert strDist(\"\", \"z\") == 0\t\n",
        "assert strDist(\"hiHellohihihi\", \"hi\") == 13\t\n",
        "assert strDist(\"hiHellohihihi\", \"hih\") == 5\t\t\n",
        "assert strDist(\"hiHellohihihi\", \"o\") == 1\t\t\n",
        "assert strDist(\"hiHellohihihi\", \"ll\") == 2"
      ],
      "execution_count": 0,
      "outputs": []
    },
    {
      "cell_type": "markdown",
      "metadata": {
        "id": "-FsBwAsAsZ6R",
        "colab_type": "text"
      },
      "source": [
        "#array220 \n",
        "Given an array of ints, compute recursively if the array contains somewhere a value followed in the array by that value times 10. We'll use the convention of considering only the part of the array that begins at the given index. In this way, a recursive call can pass index+1 to move down the array. The initial call will pass in index as 0."
      ]
    },
    {
      "cell_type": "code",
      "metadata": {
        "id": "s5dqUnphsn0w",
        "colab_type": "code",
        "colab": {}
      },
      "source": [
        "assert array220([1, 2, 20], 0) == \"true\"\t\n",
        "assert array220([3, 30], 0) == \"true\"\t\t\n",
        "assert array220([3], 0) == \"false\"\t\n",
        "assert array220([], 0) == \"false\"\t\n",
        "assert array220([3, 3, 30, 4], 0) == \"true\"\t\n",
        "assert array220([2, 19, 4], 0) == \"false\"\n",
        "assert array220([20, 2, 21], 0) == \"false\"\n",
        "assert array220([20, 2, 21, 210], 0) == \"true\"\t\n",
        "assert array220([2, 200, 2000], 0) == \"true\"\n",
        "assert array220([0, 0], 0) == \"true\"\n",
        "assert array220([1, 2, 3, 4, 5, 6], 0) == \"false\"\n",
        "assert array220([1, 2, 3, 4, 5, 50, 6], 0) == \"true\"\n",
        "assert array220([1, 2, 3, 4, 5, 51, 6], 0) == \"false\"\n",
        "assert array220([1, 2, 3, 4, 4, 50, 500, 6], 0) == \"true\""
      ],
      "execution_count": 0,
      "outputs": []
    },
    {
      "cell_type": "markdown",
      "metadata": {
        "id": "hX71cmDHs3hm",
        "colab_type": "text"
      },
      "source": [
        "#allStar \n",
        "\n",
        "Given a string, compute recursively a new string where all the adjacent chars are now separated by a \"*\"."
      ]
    },
    {
      "cell_type": "code",
      "metadata": {
        "id": "xLJNSEK4s7cD",
        "colab_type": "code",
        "colab": {}
      },
      "source": [
        "assert allStar(\"hello\") == \"h*e*l*l*o\"\n",
        "assert allStar(\"abc\") == \"a*b*c\"\t\"a*b*c\"\t\t\n",
        "assert allStar(\"ab\") == \"a*b\"\t\"a*b\"\t\t\n",
        "assert allStar(\"a\") == \"a\"\t\"a\"\t\t\n",
        "assert allStar(\"\") == \"\"\t\"\"\t\t\n",
        "assert allStar(\"3.14\") == \"3*.*1*4\"\t\"3*.*1*4\"\t\t\n",
        "assert allStar(\"Chocolate\") == \"C*h*o*c*o*l*a*t*e\"\t\"C*h*o*c*o*l*a*t*e\"\t\t\n",
        "assert allStar(\"1234\") == \"1*2*3*4\"\t\"1*2*3*4\""
      ],
      "execution_count": 0,
      "outputs": []
    },
    {
      "cell_type": "markdown",
      "metadata": {
        "id": "R_Hu1xj2Kad6",
        "colab_type": "text"
      },
      "source": [
        ""
      ]
    },
    {
      "cell_type": "markdown",
      "metadata": {
        "id": "gX0nZSNoKCjY",
        "colab_type": "text"
      },
      "source": [
        ""
      ]
    }
  ]
}