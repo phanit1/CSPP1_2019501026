{
  "nbformat": 4,
  "nbformat_minor": 0,
  "metadata": {
    "colab": {
      "name": "creditcard.ipynb",
      "version": "0.3.2",
      "provenance": [],
      "collapsed_sections": []
    },
    "kernelspec": {
      "name": "python3",
      "display_name": "Python 3"
    }
  },
  "cells": [
    {
      "cell_type": "code",
      "metadata": {
        "id": "tFZMPutyLABl",
        "colab_type": "code",
        "outputId": "32e1eb2d-f921-406e-d369-8cf3bb7a5d7b",
        "colab": {
          "base_uri": "https://localhost:8080/",
          "height": 84
        }
      },
      "source": [
        "def remainingbalance(Balance,AnnualInterestRate,MonthlyPaymentRate):\n",
        "  '''\n",
        "  \n",
        "  '''\n",
        "  for i in range(12):\n",
        "    Monthlyinterestrate= (AnnualInterestRate) / 12.0\n",
        "    Minimummonthlypayment = (MonthlyPaymentRate) * (Balance)\n",
        "    Monthlyunpaidbalance = (Balance) - (Minimummonthlypayment)\n",
        "    Balance = (Monthlyunpaidbalance) + (Monthlyinterestrate * Monthlyunpaidbalance)\n",
        "  return round(Balance,2)\n",
        "Balance=int(input(\"The outstanding balance on the credit card: \"))\n",
        "AnnualInterestRate=float(input(\"Annual interest rate: \"))\n",
        "MonthlyPaymentRate=float(input(\"minimum monthly payment rate: \"))\n",
        "remainingbalance(Balance,AnnualInterestRate,MonthlyPaymentRate)"
      ],
      "execution_count": 0,
      "outputs": [
        {
          "output_type": "stream",
          "text": [
            "The outstanding balance on the credit card: 42\n",
            "Annual interest rate: 0.2\n",
            "minimum monthly payment rate: 0.04\n"
          ],
          "name": "stdout"
        },
        {
          "output_type": "execute_result",
          "data": {
            "text/plain": [
              "31.38"
            ]
          },
          "metadata": {
            "tags": []
          },
          "execution_count": 21
        }
      ]
    },
    {
      "cell_type": "code",
      "metadata": {
        "id": "4uZ-j2yEP0Ry",
        "colab_type": "code",
        "outputId": "92f6343f-665b-4f3f-e38d-5d661359ab97",
        "colab": {
          "base_uri": "https://localhost:8080/",
          "height": 67
        }
      },
      "source": [
        "def low_payment(balance,annualInterestRate):\n",
        "  '''\n",
        "  \n",
        "  '''\n",
        "  minimumfixedmonthlypayment=0\n",
        "  monthlyinterestrate= (annualInterestRate) / 12.0\n",
        "  updatedbalanceeachmonth=1\n",
        "  while updatedbalanceeachmonth > 0:\n",
        "    updatedbalanceeachmonth=balance\n",
        "    for i in range(12):\n",
        "      monthlyunpaidbalance = (updatedbalanceeachmonth) - (minimumfixedmonthlypayment)\n",
        "      updatedbalanceeachmonth = (monthlyunpaidbalance) + (monthlyinterestrate * monthlyunpaidbalance)\n",
        "    minimumfixedmonthlypayment += 10\n",
        "  return minimumfixedmonthlypayment-10\n",
        "balance=int(input(\"The outstanding balance on the credit card: \"))\n",
        "annualInterestRate=float(input(\"Annual interest rate: \"))\n",
        "low_payment(balance,annualInterestRate)"
      ],
      "execution_count": 0,
      "outputs": [
        {
          "output_type": "stream",
          "text": [
            "The outstanding balance on the credit card: 3329\n",
            "Annual interest rate: 0.2\n"
          ],
          "name": "stdout"
        },
        {
          "output_type": "execute_result",
          "data": {
            "text/plain": [
              "310"
            ]
          },
          "metadata": {
            "tags": []
          },
          "execution_count": 22
        }
      ]
    },
    {
      "cell_type": "code",
      "metadata": {
        "id": "dmSjV57J-5NJ",
        "colab_type": "code",
        "outputId": "4018ecdf-a6c2-4b64-8034-6fbe8f311ef7",
        "colab": {
          "base_uri": "https://localhost:8080/",
          "height": 67
        }
      },
      "source": [
        "def bisection(balance,annualInterestRate):\n",
        "  '''\n",
        "  \n",
        "  '''\n",
        "  monthlyInterestRate = annualInterestRate/12\n",
        "  updated_balance=balance\n",
        "  lower = balance/12\n",
        "  upper = (balance * (1 + monthlyInterestRate)*12)/12.0\n",
        "  while abs(balance) > 0.01:\n",
        "      monthlyPaymentRate = (upper + lower)/2\n",
        "      balance = updated_balance\n",
        "      for i in range(12):\n",
        "          balance = balance - monthlyPaymentRate + ((balance - monthlyPaymentRate) * monthlyInterestRate)\n",
        "      if balance > 0:\n",
        "          lower = monthlyPaymentRate\n",
        "      elif balance < 0:\n",
        "          upper = monthlyPaymentRate\n",
        "      else:\n",
        "          break\n",
        "  print('Lowest Payment:', round(monthlyPaymentRate, 2))\n",
        "balance=int(input(\"The outstanding balance on the credit card: \"))\n",
        "annualInterestRate=float(input(\"Annual interest rate: \"))\n",
        "bisection(balance,annualInterestRate)"
      ],
      "execution_count": 0,
      "outputs": [
        {
          "output_type": "stream",
          "text": [
            "The outstanding balance on the credit card: 320000\n",
            "Annual interest rate: 0.2\n",
            "Lowest Payment: 29157.09\n"
          ],
          "name": "stdout"
        }
      ]
    }
  ]
}