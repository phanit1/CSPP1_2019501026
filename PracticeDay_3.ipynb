{
  "nbformat": 4,
  "nbformat_minor": 0,
  "metadata": {
    "colab": {
      "name": "PracticeDay-3.ipynb",
      "version": "0.3.2",
      "provenance": [],
      "collapsed_sections": [
        "HNxWt-U0OeJ6",
        "P7SP4eHnPMhd"
      ]
    },
    "kernelspec": {
      "name": "python3",
      "display_name": "Python 3"
    }
  },
  "cells": [
    {
      "cell_type": "markdown",
      "metadata": {
        "id": "6qlzdsUBMzZu",
        "colab_type": "text"
      },
      "source": [
        "# **Credit Card Checker**\n",
        "\n",
        "Write a function that checks whether a credit card number is correct or not, using the Luhn algorithm.\n",
        "\n",
        "The algorithm is as follows:\n",
        "\n",
        "    From the rightmost digit, which is the check digit, moving left, double the value of every second digit; if the product of this doubling operation is greater than 9 (e.g., 8 × 2 = 16), then sum the digits of the products (e.g., 16: 1 + 6 = 7, 18: 1 + 8 = 9) or alternatively subtract 9 from the product (e.g., 16: 16 - 9 = 7, 18: 18 - 9 = 9).\n",
        "    Take the sum of all the digits.\n",
        "    If the total modulo 10 is equal to 0 (if the total ends in zero) then the number is valid according to the Luhn formula; else it is not valid.\n",
        "\n",
        "The input is a string with the full credit card number, in groups of 4 digits separated by spaces, i.e. \"1234 5678 9012 3456\"\n",
        "Don´t worry about wrong inputs, they will always be a string with 4 groups of 4 digits each separated by space.\n",
        "\n",
        "##Examples\n",
        "\n",
        "         valid_card?(\"5457 6238 9823 4311\") # -> true\n",
        "         valid_card?(\"5457 6238 9323 4311\") # -> false\n",
        "\n",
        "for reference check: https://en.wikipedia.org/wiki/Luhn_algorithm"
      ]
    },
    {
      "cell_type": "code",
      "metadata": {
        "id": "t4gvQkomLIj2",
        "colab_type": "code",
        "colab": {}
      },
      "source": [
        "#Your code goes here\n",
        "\n",
        "\n",
        "\n",
        "def assert_equals(a, b):\n",
        "    return a == b\n",
        "\n",
        "assert_equals(valid_card(\"5457 6238 9823 4311\"), True)\n",
        "assert_equals(valid_card(\"8895 6238 9323 4311\"), False)\n",
        "assert_equals(valid_card(\"5457 6238 5568 4311\"), False)\n",
        "assert_equals(valid_card(\"5457 6238 9323 4311\"), False)\n",
        "assert_equals(valid_card(\"2222 2222 2222 2224\"), True)\n",
        "assert_equals(valid_card(\"5457 1125 9323 4311\"), False)\n",
        "assert_equals(valid_card(\"1252 6238 9323 4311\"), False)\n",
        "assert_equals(valid_card(\"9999 9999 9999 9995\"), True)\n",
        "assert_equals(valid_card(\"0000 0300 0000 0000\"), False)\n",
        "assert_equals(valid_card(\"4444 4444 4444 4448\"), True)\n",
        "assert_equals(valid_card(\"5457 6238 9323 1252\"), False)\n",
        "assert_equals(valid_card(\"5457 6238 1251 4311\"), False)\n",
        "assert_equals(valid_card(\"3333 3333 3333 3331\"), True)\n",
        "assert_equals(valid_card(\"6666 6666 6666 6664\"), True)\n",
        "assert_equals(valid_card(\"5457 6238 0254 4311\"), False)\n",
        "assert_equals(valid_card(\"0000 0000 0000 0000\"), True)\n",
        "assert_equals(valid_card(\"5457 1111 9323 4311\"), False)\n",
        "assert_equals(valid_card(\"5457 6238 9823 4311\"), True)\n",
        "assert_equals(valid_card(\"1145 6238 9323 4311\"), False)\n",
        "assert_equals(valid_card(\"8888 8888 8888 8888\"), True)\n",
        "assert_equals(valid_card(\"0025 2521 9323 4311\"), False)\n",
        "assert_equals(valid_card(\"5457 6238 9323 4311\"), False)\n",
        "assert_equals(valid_card(\"1111 1111 1111 1117\"), True)\n",
        "assert_equals(valid_card(\"1234 5678 9012 3452\"), True)\n",
        "assert_equals(valid_card(\"5458 4444 9323 4311\"), False)\n",
        "assert_equals(valid_card(\"5457 6238 3333 4311\"), False)\n",
        "assert_equals(valid_card(\"0123 4567 8901 2345\"), False)\n",
        "assert_equals(valid_card(\"5555 5555 5555 5557\"), True)\n",
        "print(\"All test cases passed\")"
      ],
      "execution_count": 0,
      "outputs": []
    },
    {
      "cell_type": "markdown",
      "metadata": {
        "id": "HNxWt-U0OeJ6",
        "colab_type": "text"
      },
      "source": [
        "# **Automorphic Number**\n",
        "  \n",
        "A number is called Automorphic number if and only if its square ends in the same digits as the number itself.\n",
        "Task\n",
        "\n",
        "Given a number determine if it Automorphic or not .\n",
        "\n",
        "autoMorphic (25) -->> return \"Automorphic\" \n",
        "\n",
        "Explanation:\n",
        "\n",
        "    25 squared is 625 , Ends with the same number's digits which are 25 .\n",
        "\n",
        "autoMorphic (13) -->> return \"Not!!\"\n",
        "\n",
        "Explanation:\n",
        "\n",
        "    13 squared is 169 , Not ending with the same number's digits which are 69 .\n",
        "\n",
        "autoMorphic (76) -->> return \"Automorphic\""
      ]
    },
    {
      "cell_type": "code",
      "metadata": {
        "id": "vnAoSauhOta4",
        "colab_type": "code",
        "colab": {}
      },
      "source": [
        "#Your code goes here\n",
        "\n",
        "\n",
        "\n",
        "def assert_equals(a, b):\n",
        "    return a == b\n",
        "\n",
        "assert_equals(automorphic(1),\"Automorphic\")\n",
        "assert_equals(automorphic(3),\"Not!!\")\n",
        "assert_equals(automorphic(6),\"Automorphic\")\n",
        "assert_equals(automorphic(9),\"Not!!\")\n",
        "assert_equals(automorphic(25),\"Automorphic\")\n",
        "assert_equals(automorphic(53),\"Not!!\")\n",
        "assert_equals(automorphic(76),\"Automorphic\")\n",
        "assert_equals(automorphic(95),\"Not!!\")\n",
        "assert_equals(automorphic(625),\"Automorphic\")\n",
        "assert_equals(automorphic(225),\"Not!!\")\n",
        "print(\"All test cases passed\")"
      ],
      "execution_count": 0,
      "outputs": []
    },
    {
      "cell_type": "markdown",
      "metadata": {
        "id": "P7SP4eHnPMhd",
        "colab_type": "text"
      },
      "source": [
        "# **Proof Read**\n",
        "\n",
        "You've just finished writing the last chapter for your novel when a virus suddenly infects your document. It has swapped the 'i's and 'e's in 'ei' words and capitalised random letters. Write a function which will:\n",
        "\n",
        "a) remove the spelling errors in 'ei' words. (Example of 'ei' words: their, caffeine, deceive, weight)\n",
        "\n",
        "b) only capitalise the first letter of each sentence. Make sure the rest of the sentence is in lower case.\n",
        "\n",
        "Example: He haD iEght ShOTs of CAffIEne. --> He had eight shots of caffeine.\n"
      ]
    },
    {
      "cell_type": "code",
      "metadata": {
        "id": "eL0uT02iRXCC",
        "colab_type": "code",
        "colab": {}
      },
      "source": [
        "#your code goes here\n",
        "\n",
        "\n",
        "def assert_equals(a, b):\n",
        "    return a == b\n",
        "\n",
        "\n",
        "assert_equals( proofread(\"SHe wEnt CaNoIenG.\"), \"She went canoeing.\")\n",
        "assert_equals( proofread(\"He haD iEght ShOTs of CAffIEne\"), \"He had eight shots of caffeine\")\n",
        "assert_equals( proofread(\"THe neIghBour's ceiLing FEll on His Head. The WiEght of It crusHed him To thE gROuNd.\"), \"The neighbour's ceiling fell on his head. The weight of it crushed him to the ground.\")\n",
        "assert_equals( proofread(\"ThE kiDs enJoYEd the SLiegh RidE.\"), \"The kids enjoyed the sleigh ride.\")\n",
        "assert_equals( proofread(\"SHE did NOT diegn to GUESS her NIEGHBOUR'S wieght.\"), \"She did not deign to guess her neighbour's weight.\")\n",
        "assert_equals( proofread(\"They had to fIEgn thIEr appreciation for her bIEge tights.\"), \"They had to feign their appreciation for her beige tights.\")\n",
        "assert_equals( proofread(\"Niether of the fencers wanted to forfiet the match. They both expected to sieze victory.\"), \"Neither of the fencers wanted to forfeit the match. They both expected to seize victory.\")\n",
        "assert_equals( proofread(\"Protien intAkE miGHt afFect aNy pOteNtIaL wieght LOSs.\"), \"Protein intake might affect any potential weight loss.\" )\n",
        "assert_equals( proofread(\"MargArEt cAn't eVen concIEve of foRegOing the pARty to finisH her paPEr.\"), \"Margaret can't even conceive of foregoing the party to finish her paper.\" )\n",
        "assert_equals( proofread(\"IN the wINter, it's NICE to gO for a sliegh rIDe\"), \"In the winter, it's nice to go for a sleigh ride\")\n",
        "assert_equals( proofread(\"The mAN's ONly pURpose in lIFe is to decIEve his wIFe.\"), \"The man's only purpose in life is to deceive his wife.\")\n",
        "assert_equals( proofread(\"She LifTeD heR ViEL. The ShIeK LooKeD aT hER ExPeCtAnTlY\"), \"She lifted her veil. The sheik looked at her expectantly\")\n",
        "assert_equals( proofread(\"PetEr Was Not Sure of WHAt he WAs sEIEng. HE had To RIEn in HIs SHock.\"), \"Peter was not sure of what he was seeing. He had to rein in his shock.\" )\n",
        "assert_equals( proofread(\"That is OnE lonG frieghT traiN thAt's Blocking The Railway Crossing.\"), \"That is one long freight train that's blocking the railway crossing.\")\n",
        "assert_equals( proofread(\"\"), \"\")\n",
        "print(\"All testcases passed\")\n",
        "\n"
      ],
      "execution_count": 0,
      "outputs": []
    },
    {
      "cell_type": "markdown",
      "metadata": {
        "id": "X-tY2RViTJaY",
        "colab_type": "text"
      },
      "source": [
        "# **Prime String**\n",
        "\n",
        "The string is called prime if it cannot be constructed by concatenating some (more than one) equal strings together.\n",
        "\n",
        "For example, \"abac\" is prime, but \"xyxy\" is not(\"xyxy\"=\"xy\"+\"xy\").\n",
        "\n",
        "Given a string determine if it is prime or not.\n",
        "Input/Output\n",
        "\n",
        "    [input] string s\n",
        "\n",
        "    string containing only lowercase English letters\n",
        "\n",
        "    [output] a boolean value\n",
        "\n",
        "    true if the string is prime, false otherwise\n"
      ]
    },
    {
      "cell_type": "code",
      "metadata": {
        "id": "h4HyjWHETQk6",
        "colab_type": "code",
        "colab": {}
      },
      "source": [
        "#Your code goes here\n",
        "\n",
        "\n",
        "def assert_equals(a, b):\n",
        "    return a == b\n",
        "\n",
        "assert_equals(prime_string(\"abac\"),True)\n",
        "assert_equals(prime_string(\"abab\"),False)\n",
        "assert_equals(prime_string(\"aaaa\"),False)\n",
        "assert_equals(prime_string(\"x\"),True)\n",
        "assert_equals(prime_string(\"abc\"),True)\n",
        "assert_equals(prime_string(\"fdsyffdsyffdsyffdsyffdsyf\"),False)\n",
        "assert_equals(prime_string(\"utdutdtdutd\"),True)\n",
        "assert_equals(prime_string(\"abba\"),True)\n",
        "print(\"All testcases passed\")"
      ],
      "execution_count": 0,
      "outputs": []
    },
    {
      "cell_type": "markdown",
      "metadata": {
        "id": "YAi_fY8WUL9E",
        "colab_type": "text"
      },
      "source": [
        "# **Bingo ( Or Not )**\n",
        "\n",
        "For this game of BINGO, you will receive a single array of 10 numbers from 1 to 26 as an input. Duplicate numbers within the array are possible.\n",
        "\n",
        "Each number corresponds to their alphabetical order letter (e.g. 1 = A. 2 = B, etc). Write a function where you will win the game if your numbers can spell \"BINGO\". They do not need to be in the right order in the input array). Otherwise you will lose. Your outputs should be \"WIN\" or \"LOSE\" respectively.\n"
      ]
    },
    {
      "cell_type": "code",
      "metadata": {
        "id": "-fj_SgPOUPyx",
        "colab_type": "code",
        "colab": {}
      },
      "source": [
        "#Your code goes here\n",
        "\n",
        "def assert_equals(a, b):\n",
        "    return a == b\n",
        "\n",
        "assert_equals(\"LOSE\", bingo([1, 2, 3, 4, 5, 6, 7, 8, 9, 10])\n",
        "assert_equals(\"LOSE\", bingo([20, 12, 23, 14, 6, 22, 12, 17, 2, 26]\n",
        "assert_equals(\"WIN\", bingo([1, 2, 3, 7, 5, 14, 7, 15, 9, 10])\n",
        "assert_equals(\"WIN\", bingo([5, 2, 13, 7, 5, 14, 17, 15, 9, 10])\n",
        "print(\"All test cases passed\")"
      ],
      "execution_count": 0,
      "outputs": []
    }
  ]
}