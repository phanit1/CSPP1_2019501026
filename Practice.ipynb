{
  "nbformat": 4,
  "nbformat_minor": 0,
  "metadata": {
    "colab": {
      "name": "Practice.ipynb",
      "version": "0.3.2",
      "provenance": [],
      "collapsed_sections": []
    },
    "kernelspec": {
      "name": "python3",
      "display_name": "Python 3"
    }
  },
  "cells": [
    {
      "cell_type": "markdown",
      "metadata": {
        "id": "NtEbEDz7CvRr",
        "colab_type": "text"
      },
      "source": [
        "# **Exponent and Digit sum**                                                                                      \n",
        "\n",
        "Write a python program using user defined functions to calculate exponent of a given number and compute the digit sum of the result.\n",
        "\n",
        "Note: Don’t use any in-build function in calculating exponent or power.\n",
        "input 2, 10\n",
        "\n",
        "\n",
        "we need to calculate power without using power function in python.\n",
        "\n",
        "2 power 10 = 1024 = 1 + 2 + 0 + 4 = 7"
      ]
    },
    {
      "cell_type": "code",
      "metadata": {
        "id": "WQpJ5yutCqu2",
        "colab_type": "code",
        "colab": {}
      },
      "source": [
        "#your code goes here\n",
        "\n",
        "\n",
        "assert exponent_digit_sum(10, 0) == 1\n",
        "assert exponent_digit_sum(2, 10) == 7\n",
        "assert exponent_digit_sum(3, 91) == 171\n",
        "assert exponent_digit_sum(2, 1000) == 1366\n",
        "assert exponent_digit_sum(121, 1210) == 11263\n",
        "assert exponent_digit_sum(97, 11263) == 100726\n",
        "assert exponent_digit_sum(971, 19999) == 268073\n",
        "assert exponent_digit_sum(0, 0) == 1\n",
        "print(\"All testcases passed\")"
      ],
      "execution_count": 0,
      "outputs": []
    },
    {
      "cell_type": "markdown",
      "metadata": {
        "id": "k2fnBwS-GGUZ",
        "colab_type": "text"
      },
      "source": [
        "# **More Number of Vowels**\n",
        "Write a python program using functions that prints “True” whether the given string has\n",
        "more number of vowels than consonants, otherwise print “False”\n",
        "\n"
      ]
    },
    {
      "cell_type": "code",
      "metadata": {
        "id": "mheePPoWGP6G",
        "colab_type": "code",
        "colab": {}
      },
      "source": [
        "#your code goes here\n",
        "\n",
        "\n",
        "\n",
        "assert vowels_count(\"HelloWorld!\") == False\n",
        "assert vowels_count(\"qwertyuioplkjhgfdasaeiouaeiou\") == True\n",
        "assert vowels_count(\"abcdefghiaeiou\") == True\n",
        "assert vowels_count(\"4999991\") == False\n",
        "assert vowels_count(\"\") == False\n",
        "assert vowels_count(\"AeI@#$U\") == True\n",
        "assert vowels_count(1234) == False\n",
        "print(\"All testcases passed\")"
      ],
      "execution_count": 0,
      "outputs": []
    },
    {
      "cell_type": "markdown",
      "metadata": {
        "id": "l2kWgvkgb0zx",
        "colab_type": "text"
      },
      "source": [
        "# **Second Smallest and Second Largest from the list**\n",
        "Write a python program to find the second\n",
        "largest and second smallest numbers from the given list of numbers. (You should not use in-built\n",
        "method). \n",
        "\n",
        "Return a list with two elements, out of which first element is smallest and second element is largest\n"
      ]
    },
    {
      "cell_type": "code",
      "metadata": {
        "id": "B8pE-uCob-eK",
        "colab_type": "code",
        "colab": {}
      },
      "source": [
        "#Your code goes here\n",
        "\n",
        "\n",
        "\n",
        "\n",
        "assert second_smallest_and_second_largest([-1,-2,-3,-4,-5]) == [-4, -2]\n",
        "assert second_smallest_and_second_largest([1,2,3,4,5]) == [2, 4]\n",
        "assert second_smallest_and_second_largest([-1]) == [-1, -1]\n",
        "assert second_smallest_and_second_largest([]) == []\n",
        "assert second_smallest_and_second_largest([0,0,0,0,0,0,0,0,0,0]) == [0, 0]\n",
        "assert second_smallest_and_second_largest([-9999,0,0,0,0,0]) == [0, -9999]\n"
      ],
      "execution_count": 0,
      "outputs": []
    },
    {
      "cell_type": "markdown",
      "metadata": {
        "id": "jnXL_jjodINA",
        "colab_type": "text"
      },
      "source": [
        "# **Rotate List Left by n Times**\n",
        "Rotate list left by n times: Write a python program to rotate the list left by n times.\n",
        "\n"
      ]
    },
    {
      "cell_type": "code",
      "metadata": {
        "id": "ziGjtPkzdQyH",
        "colab_type": "code",
        "colab": {}
      },
      "source": [
        "#Your code goes here\n",
        "\n",
        "\n",
        "assert rotate_list([1,2,3,4,5,6], 3) == [4, 5, 6, 1, 2, 3]\n",
        "assert rotate_list([1,'$',2,'#',3,'@',4,'^',5,'~'], 10) == [1, '$', 2, '#', 3, '@', 4, '^', 5, '~']\n",
        "assert rotate_list([], 20) == []\n",
        "assert rotate_list(['','','','',''], 50002) == ['', '', '', '', '']\n",
        "assert rotate_list([6,5,4,3,2,1,2,3,4,5,6], 5) == [1, 2, 3, 4, 5, 6, 6, 5, 4, 3, 2]\n",
        "assert rotate_list([], 0) == []"
      ],
      "execution_count": 0,
      "outputs": []
    },
    {
      "cell_type": "markdown",
      "metadata": {
        "id": "kxkOz7OZfFtr",
        "colab_type": "text"
      },
      "source": [
        "# **Smallest Number**\n",
        "\n",
        "Write a python program that can be formed by multiplying 3 digits of a given integer n and return the product of 3 smallest values."
      ]
    },
    {
      "cell_type": "code",
      "metadata": {
        "id": "RROyOw2AfPgX",
        "colab_type": "code",
        "colab": {}
      },
      "source": [
        "#Your code goes here\n",
        "\n",
        "\n",
        "assert smallest_of_three(19673) == 18\n",
        "assert smallest_of_three(111223) == 1\n",
        "assert smallest_of_three(112349) == 2\n",
        "assert smallest_of_three(222222) == 8\n",
        "assert smallest_of_three(975468) == 120\n",
        "assert smallest_of_three(12) == 2\n",
        "assert smallest_of_three(508) == 0\n",
        "assert smallest_of_three(6) == 6\n",
        "assert smallest_of_three(10100) == 0\n",
        "assert smallest_of_three(125) == 10\n"
      ],
      "execution_count": 0,
      "outputs": []
    }
  ]
}