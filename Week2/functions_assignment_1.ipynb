{
  "nbformat": 4,
  "nbformat_minor": 0,
  "metadata": {
    "colab": {
      "name": "Functions Assignment - 1.ipynb",
      "version": "0.3.2",
      "provenance": [],
      "collapsed_sections": []
    },
    "kernelspec": {
      "name": "python3",
      "display_name": "Python 3"
    }
  },
  "cells": [
    {
      "cell_type": "markdown",
      "metadata": {
        "id": "1I5m_baEJbrS",
        "colab_type": "text"
      },
      "source": [
        "# 1. Calculator\n",
        "\n",
        "Your task is to build a calculator by looking at the assert statements. You already know the assert statements contain the function name, parameters and return value. By looking at them you should be able to create those functions and pass all the testcases.\n",
        "\n"
      ]
    },
    {
      "cell_type": "code",
      "metadata": {
        "id": "tf2zRsArK5JH",
        "colab_type": "code",
        "colab": {}
      },
      "source": [
        "#write the required functions\n",
        "\n",
        "assert add(1,3,4) == 8\n",
        "assert add(1,0,5) == 6\n",
        "assert add(0,0,0) == 0\n",
        "assert add(-1,0,-2) == -3\n",
        "assert sub(1,-2) == 3\n",
        "assert sub(2,5) == -3\n",
        "assert sub(34,34) == 0\n",
        "assert sub(-1,-1) == 0\n",
        "assert div(22,2) == 11\n",
        "assert div(32,2) == 16\n",
        "assert div(45,9) == 5\n",
        "assert div(45,0) == \"zero division error\"\n",
        "assert mul(3,2) == 6\n",
        "assert mul(23456,0) == 0\n",
        "assert mul(11,2) == 22\n",
        "assert mul(23,4) == 92\n",
        "print(\" All the testcases are passed!\")"
      ],
      "execution_count": 0,
      "outputs": []
    },
    {
      "cell_type": "markdown",
      "metadata": {
        "id": "hEuS4Z7TMjP_",
        "colab_type": "text"
      },
      "source": [
        "#2. Prime\n",
        "You are given a helper function is_prime, which takes an integer as parameter and returns true if that number is prime or else false. Make use of this helper function and write the create the following functions which does the operations described.\n",
        " \n",
        "\n",
        "1.   A function that prints first N prime numbers\n",
        "2.   A function that prints the prime numbers in the given range (can also use previous function with some changes )\n",
        "3.   A function that prints Nth prime number\n",
        "\n",
        "\n",
        "\n",
        "\n",
        "\n",
        "\n",
        "\n",
        "\n"
      ]
    },
    {
      "cell_type": "code",
      "metadata": {
        "id": "C8XUnKcDDdZg",
        "colab_type": "code",
        "colab": {}
      },
      "source": [
        "# create the functions\n",
        "#helper_function\n",
        "def is_prime(num):\n",
        "  if num > 1:    \n",
        "    for i in range(2, num//2): \n",
        "        if (num % i) == 0: \n",
        "             return False\n",
        "    else: \n",
        "       return True\n",
        "  \n",
        "  else: \n",
        "    return False"
      ],
      "execution_count": 0,
      "outputs": []
    },
    {
      "cell_type": "markdown",
      "metadata": {
        "id": "9HE-3q83Elvv",
        "colab_type": "text"
      },
      "source": [
        "#3. Alphanumeric\n",
        "Given an alpha-numeric string, define the following functions which does the described operations.\n",
        "\n",
        "\n",
        "1.   Write a function that sums all the intergers in the string\n",
        "2.   write a function that displays all the characters in the string\n",
        "3.    write a function that checks whether the given string is palindrome or not\n",
        "4.    write a function that prints the maximum digit from the string\n",
        "5.    write a function  that counts the number of special characters in the strings\n",
        "\n"
      ]
    },
    {
      "cell_type": "code",
      "metadata": {
        "id": "znf94x1ikVww",
        "colab_type": "code",
        "colab": {}
      },
      "source": [
        "string = input(\"Enter an alpha-numeric string\")\n",
        "#Write the functions"
      ],
      "execution_count": 0,
      "outputs": []
    },
    {
      "cell_type": "markdown",
      "metadata": {
        "id": "SXnSqm8mjzVs",
        "colab_type": "text"
      },
      "source": [
        "#4. Encrypt/Decrypt\n",
        "The Caesar Cipher technique is one of the earliest and simplest method of encryption technique. It’s simply a type of substitution cipher, i.e., each letter of a given text is replaced by a letter some fixed number of positions down the alphabet. For example with a shift of 1, A would be replaced by B, B would become C, and so on. \n",
        "\n",
        "You are given a text and a number, shift each character by adding the given number to that character. create a function that does this encryption.\n",
        "Text : ABCDEFGHIJKLMNOPQRSTUVWXYZ\n",
        "Shift: 23\n",
        "Encrypt: XYZABCDEFGHIJKLMNOPQRSTUVW\n",
        "\n",
        "Create a function that decrypt when given a text and a number, shift each character by subtracting the given number to that character.\n",
        "Text : XYZABCDEFGHIJKLMNOPQRSTUVW\n",
        "Shift: 23\n",
        "Decrypt: ABCDEFGHIJKLMNOPQRSTUVWXYZ\n",
        "\n",
        "\n",
        "\n",
        "\n"
      ]
    },
    {
      "cell_type": "code",
      "metadata": {
        "id": "gN1CI1K67cSF",
        "colab_type": "code",
        "colab": {}
      },
      "source": [
        "#Write encrypt and decrypt functions"
      ],
      "execution_count": 0,
      "outputs": []
    }
  ]
}