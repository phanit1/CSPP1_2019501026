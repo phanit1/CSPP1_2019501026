{
  "nbformat": 4,
  "nbformat_minor": 0,
  "metadata": {
    "colab": {
      "name": "ProblemSet-1_week2",
      "version": "0.3.2",
      "provenance": [],
      "collapsed_sections": []
    },
    "kernelspec": {
      "name": "python3",
      "display_name": "Python 3"
    }
  },
  "cells": [
    {
      "cell_type": "markdown",
      "metadata": {
        "id": "xjrf2jle5W6n",
        "colab_type": "text"
      },
      "source": [
        "# **Note**\n",
        "\n",
        "              Make use of the concepts you have learned so far to solve these problems. Make your code readable by writing functions(if required), test the code with your own testcases. "
      ]
    },
    {
      "cell_type": "markdown",
      "metadata": {
        "id": "It9IbDJqODdE",
        "colab_type": "text"
      },
      "source": [
        "#Regenerate Document\n",
        "\n",
        "Bob was  writing a document and suddenly the computer got power off. When he switched on later he could not find the text in the document, he was sad as he lost the all the information in the document. \n",
        "\n",
        "Luckily the text editor has a useful feature called \"Word dictionary\". This feature saves each word's frequency and the position of its occurences. By using this feature help Bob to recover his document by placing the words in the correct postion separated by spaces. \n",
        "\n",
        "A sample data in the Word indexes is below:\n",
        "\n",
        "    Word dictionary = {'You': [1, [1]], 'cannot': [1, [2]], 'end': [1, [3]], 'a': [2, [4, 11]], 'sentence': [1, [5]], 'with': [1, [6]], 'because': [3, [7, 8, 9]], 'is': [1, [10]], 'conjunction': [1, [12]]}\n",
        "\n",
        "    Output :  \"You cannot end a sentence with because because because is a conjunction\"\n",
        "   \n",
        "Explanation : In the word dictionary, each word is key and the value is a list. In the value the first element is the count of occurence of that word in the text and the second element is the postions in which that word occurs. \"You\" has occured 1 time and its is in 1 position. \"cannot\" has occured 1 time and its position is 2 and so on.\n",
        "\n",
        "    Word dictionary = {'That': [1, [1]], 'that': [3, [2, 5, 6]], 'is': [4, [3, 4, 7, 9]], 'not': [2, [8, 10]]}\n",
        "    \n",
        "    Output : \"That that is is that that is not is not\"\n",
        "\n",
        "\n",
        "\n"
      ]
    },
    {
      "cell_type": "code",
      "metadata": {
        "id": "HXHaxitXqAE2",
        "colab_type": "code",
        "colab": {}
      },
      "source": [
        "def regenerate_doc(word_dictnary):\n",
        "  #code\n",
        "  \n",
        "  \n",
        "assert regenerate_doc({'That': [1, [1]], 'that': [3, [2, 5, 6]], 'is': [4, [3, 4, 7, 9]], 'not': [2, [8, 10]]}) ==\"That that is is that that is not is not\"\n",
        "assert regenerate_doc( {'You': [1, [1]], 'cannot': [1, [2]], 'end': [1, [3]], 'a': [2, [4, 11]], 'sentence': [1, [5]], 'with': [1, [6]], 'because': [3, [7, 8, 9]], 'is': [1, [10]], 'conjunction': [1, [12]]}) == \"You cannot end a sentence with because because because is a conjunction\"\n",
        "assert regenerate_doc({'She': [1, [1]], 'was': [1, [2]], 'young': [3, [3, 8, 11]], 'the': [1, [4]], 'way': [1, [5]], 'an': [1, [6]], 'actual': [1, [7]], 'person': [1, [9]], 'is': [1, [10]]}) == \"She was young the way an actual young person is young\"\n",
        "assert regenerate_doc({'Even': [1, [1]], 'if': [1, [2]], 'they': [1, [3]], 'are': [1, [4]], 'djinns,': [1, [5]], 'I': [1, [6]], 'will': [1, [7]], 'get': [1, [8]], 'djinns': [1, [9]], 'that': [1, [10]], 'can': [1, [11]], 'outdjinn': [1, [12]], 'them': [1, [13]]})== \"Even if they are djinns, I will get djinns that can outdjinn them\"\n",
        "assert regenerate_doc({'I': [5, [1, 5, 13, 15, 20]], 'felt': [1, [2]], 'happy': [3, [3, 10, 23]], 'because': [2, [4, 12]], 'saw': [1, [6]], 'the': [1, [7]], 'others': [1, [8]], 'were': [1, [9]], 'and': [1, [11]], 'knew': [1, [14]], 'should': [1, [16]], 'feel': [1, [17]], 'happy,': [1, [18]], 'but': [1, [19]], 'wasn’t': [1, [21]], 'really': [1, [22]]}) == \"I felt happy because I saw the others were happy and because I knew I should feel happy, but I wasn’t really happy\"\n",
        "print(\" All testcases are passed\")"
      ],
      "execution_count": 0,
      "outputs": []
    },
    {
      "cell_type": "markdown",
      "metadata": {
        "id": "2rFgKpk_At95",
        "colab_type": "text"
      },
      "source": [
        "#Remove all duplicates\n",
        "Given a sentence containing n words/strings. Remove all duplicates words/strings which are similar to each others.\n",
        "\n",
        "Example : \n",
        "\n",
        "          Input : Python is great and Java is also great\n",
        "          Output : Python is great and Java also"
      ]
    },
    {
      "cell_type": "code",
      "metadata": {
        "id": "I11X8djhCKQJ",
        "colab_type": "code",
        "colab": {}
      },
      "source": [
        "def remove_duplicates(input):\n",
        "\n",
        "    \n",
        "assert remove_duplicates(\"Python is great and Java is also great\" == \"Python is great and Java also\"\n",
        "assert remove_duplicates(\"I felt happy because I saw the others were happy and because I knew I should feel happy, but I wasn’t really happy\" == \"I felt happy because saw the others were and knew should feel happy, but wasn’t really\"\n",
        "assert remove_duplicates(\"Even if they are djinns, I will get djinns that can outdjinn them\" == \"Even if they are djinns, I will get djinns that can outdjinn them\"\n",
        "assert remove_duplicates(\"Because the world is a place of silence, the sky at night when the birds have gone is a vast silent place\" == \"Because the world is a place of silence, sky at night when birds have gone vast silent\"\n",
        "assert remove_duplicates(\"There are some things that are so unforgivable that they make other things easily forgivable\" == \"There are some things that so unforgivable they make other easily forgivable\"\n",
        "print(\"All testcases are passed\")"
      ],
      "execution_count": 0,
      "outputs": []
    },
    {
      "cell_type": "markdown",
      "metadata": {
        "id": "7BX8b8gq8Whp",
        "colab_type": "text"
      },
      "source": [
        "# Anagram\n",
        "Write a program to check whether two given strings are anagram of each other or not. \n",
        "          \n",
        "          An anagram of a string is another string that contains same characters, only the order of characters can be different. For example, “abcd” and “dabc” are anagram of each other."
      ]
    },
    {
      "cell_type": "code",
      "metadata": {
        "id": "KNYryUOY8ptE",
        "colab_type": "code",
        "colab": {}
      },
      "source": [
        "def check_anagrams(str1, str2):\n",
        "  #code\n",
        "\n",
        "\n",
        "assert check_anagrams(\"funeral\",\"realfun\")\n",
        "assert check_anagrams(\"a gentleman\",\"elegant man\")\n",
        "assert check_anagrams(\"the eyes\",\"they see\")\n",
        "assert not check_anagrams(\"astronomer\",\"mooonstarer\")\n",
        "assert check_anagrams(\"cspp\",\"pcsp\")\n",
        "assert check_anagrams(\"listen\", \"silent\")\n",
        "assert check_anagrams(\"triangle\", \"integral\")\n",
        "assert check_anagrams(\"school master\", \"the classroom\")\n",
        "assert not check_anagrams(\"add\",\"app\")\n",
        "print(\"All the testcases are passed\")\n",
        "\n"
      ],
      "execution_count": 0,
      "outputs": []
    },
    {
      "cell_type": "markdown",
      "metadata": {
        "id": "jI1l5zLDBZaQ",
        "colab_type": "text"
      },
      "source": [
        "#N th Characters of the String\n",
        "Write a python program that takes a string s and an\n",
        "integer n. Display all characters that are in n th index and in multiples of n."
      ]
    },
    {
      "cell_type": "code",
      "metadata": {
        "id": "RHx4PDx8AnNK",
        "colab_type": "code",
        "colab": {}
      },
      "source": [
        "def chars_nth_index(n,s):\n",
        "  #code\n",
        "  pass\n",
        "assert chars_nth_index(4,\"M$itc1hL@pa$$w0rd\") ==\"c@$d\"\n",
        "assert chars_nth_index(2, \"M$itc1hL@pa$$w0rd\") ==\"ich@a$0d\"\n",
        "assert chars_nth_index(3, \"aBcDeFgHiJ\") ==\"DgJ\"\n",
        "assert chars_nth_index(6, \"{[()]}{[()]}\") ==\"{\"\n",
        "assert chars_nth_index(0,\"abcdefgh\") ==\"\"\n",
        "assert chars_nth_index(-1,\"qwertYUIOP\") ==\"qwertYUIOP\"\n",
        "print(\"All the testcases are passed\")"
      ],
      "execution_count": 0,
      "outputs": []
    },
    {
      "cell_type": "markdown",
      "metadata": {
        "id": "L0Nv6uRTZZ5d",
        "colab_type": "text"
      },
      "source": [
        "#Mean Median Mode\n",
        "Find the mean,median and mode for the given set of numbers.\n",
        "(in case multiple modes, sort the list of modes)\n"
      ]
    },
    {
      "cell_type": "code",
      "metadata": {
        "id": "slbOXqW4Zj60",
        "colab_type": "code",
        "colab": {}
      },
      "source": [
        "def mean_median_mode(nums):\n",
        "  #code\n",
        "assert mean_median_mode([1,2,3,4,5]) == (3, 3, [1,2,3,4,5])\n",
        "assert mean_median_mode([0,0,0,0,0]) == (0,0,0)\n",
        "assert mean_median_mode([1,2,-7,7,-10,2,4,-5,-6,8,3,-5,6]) ==(0,2,[-5,2])\n",
        "print(\"All the testcases are passed\")"
      ],
      "execution_count": 0,
      "outputs": []
    },
    {
      "cell_type": "markdown",
      "metadata": {
        "id": "Rxc6m8um5Wu8",
        "colab_type": "text"
      },
      "source": [
        "#Binary anagram\n",
        "Given two numbers you are required to check whether they are anagrams of each other or not in binary representation.\n",
        "\n",
        "Examples:\n",
        "\n",
        "        Input : a = 8, b = 4 \n",
        "        Output : Yes\n",
        "        Explanation : Binary representations of both numbers have same 0s and 1s.\n",
        "\n",
        "        Input : a = 4, b = 5\n",
        "        Output : No"
      ]
    },
    {
      "cell_type": "code",
      "metadata": {
        "id": "dhAJC7Xw5WEL",
        "colab_type": "code",
        "colab": {}
      },
      "source": [
        "def checkAnagram(num1,num2): \n",
        "      #code\n",
        "\n",
        "assert not checkAnagram(4,5) \n",
        "assert checkAnagram(8,4)\n",
        "assert not checkAnagram(43,52)\n",
        "assert checkAnagram(5,3)\n",
        "assert not checkAnagram(10,21)\n",
        "assert not checkAnagram(7,4)\n",
        "assert checkAnagram(1,4)\n",
        "assert checkAnagram(7,11)\n",
        "assert checkAnagram(9,10)\n",
        "assert not checkAnagram(10,11)\n",
        "print(\"All the testcases are passed!\")\n"
      ],
      "execution_count": 0,
      "outputs": []
    },
    {
      "cell_type": "markdown",
      "metadata": {
        "id": "xS5wLXwdlEGH",
        "colab_type": "text"
      },
      "source": [
        "#Build dictionary\n",
        "Given a list of lists, build a dictionary by taking the first element as key and the remainig elements as values. if the key already exsist, then append the value to the exsisting values. (Show the output to mentor/pc to evaluate this problem)"
      ]
    },
    {
      "cell_type": "code",
      "metadata": {
        "id": "gt8MlPFClWTS",
        "colab_type": "code",
        "colab": {}
      },
      "source": [
        "def build_dictionary(lst):\n",
        "  #code\n",
        "\n",
        "build_dictionary([[1,2],[1,3,4],[2,\"hllo\",'not'],[3,3,3]])\n",
        "build_dictionary([[1,2],[1,3,4],[2,\"hllo\",'not'],[\"one\",3,3]])\n",
        "build_dictionary([[(1,3),2],[1,3,4,(4,5)],[1,2,\"hllo\",'not'],[\"one\",3,3]])\n",
        "build_dictionary([[5,2,\"\"],[1,3,4],[2,\"hllo\",'not'],[\"one\",3,3],[5,2,\"\"],[1,3,4],[2,\"hllo\",'not'],[\"one\",3,3]])\n",
        "build_dictionary([\"m\",3,4],[\"y\",\"g\",\"y\"],[3,\"4\",\"5\"])"
      ],
      "execution_count": 0,
      "outputs": []
    }
  ]
}