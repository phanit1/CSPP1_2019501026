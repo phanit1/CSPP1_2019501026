{
  "nbformat": 4,
  "nbformat_minor": 0,
  "metadata": {
    "colab": {
      "name": "Dictionaries_Assignment-1.ipynb",
      "version": "0.3.2",
      "provenance": [],
      "collapsed_sections": []
    },
    "kernelspec": {
      "name": "python3",
      "display_name": "Python 3"
    }
  },
  "cells": [
    {
      "cell_type": "markdown",
      "metadata": {
        "id": "ikNniXrCjztm",
        "colab_type": "text"
      },
      "source": [
        "#1. Word frequency counter\n",
        "Write a program that returns a dictionary which contains  the count of occurence of each word in the string. \n",
        "\n",
        "Convert all the words in the text to lowercase, remove all the special characters like \" .!,' '\" \n",
        "\n",
        "Also write a function that builds a graph by taking the keys as the labels and indicte the count by \"-\"', \n",
        "\n",
        "For example if the dictionary is {\"apple\":5,\"banana\":8}', output should be\n",
        "\n",
        "apple | -----\n",
        "\n",
        "banana | --------"
      ]
    },
    {
      "cell_type": "code",
      "metadata": {
        "id": "pLeiIq_UjvFd",
        "colab_type": "code",
        "colab": {}
      },
      "source": [
        "#your code goes here\n",
        "def frequency_counter(text):\n",
        "  \n",
        "  \n",
        "#Do not modify code here...\n",
        "dictionary_word = frequency_counter(\"Most students who start the MSIT program are not from Computer Science or Information Technology branches of engineering. Independent of that, almost all the students do not have the necessary CS background knowledge when they join MSIT. So, in CSPP1 the fundamental concepts in computer science are covered along with a very popular introductory programming language called python. Upon successful completion of this course, students will be able to read and write python programs.\")\n",
        "assert dictionary_word['of'] == 3\n",
        "assert dictionary_word['cspp1'] == 1\n",
        "assert dictionary_word['science'] == 2\n",
        "assert dictionary_word['the'] == 4\n",
        "assert dictionary_word['a'] == 1\n",
        "assert dictionary_word['students'] == 3\n",
        "assert dictionary_word['or'] == 1\n",
        "assert dictionary_word['not'] == 2\n",
        "assert dictionary_word['in'] == 2\n",
        "assert dictionary_word['are'] == 2\n",
        "print(\"All testcases passed\")"
      ],
      "execution_count": 0,
      "outputs": []
    },
    {
      "cell_type": "markdown",
      "metadata": {
        "id": "9qi5A5azlZLD",
        "colab_type": "text"
      },
      "source": [
        "#2. Number frequency counter - 1\n",
        "\n",
        "Write a program that returns a dictionary which contains the count of occurence of each digit in a given number. \n",
        "Convert all the words in the text to lowercase, remove all the special characters like \" .!,' '\" \n",
        "Also write a function that builds a graph by taking the keys as the labels and indicte the count by \"-\"', for example if the dictionary is {\"apple\":5,\"banana\":8}', output should be\n",
        "\n",
        "apple | -----\n",
        "\n",
        "banana | --------"
      ]
    },
    {
      "cell_type": "code",
      "metadata": {
        "id": "kXWcSY8dnj58",
        "colab_type": "code",
        "colab": {}
      },
      "source": [
        "#your code goes here\n",
        "def number_frequency_counter1(N):\n",
        "\n",
        "\n",
        "\n",
        "#Do not modify code here...\n",
        "d = number_frequency_counter1(1234)\n",
        "assert d[1] == 1\n",
        "assert d[2] == 1\n",
        "assert d[3] == 1\n",
        "assert d[4] == 1\n",
        "d = number_frequency_counter1(1122)\n",
        "assert d[1] == 2\n",
        "assert d[2] == 2\n",
        "d = number_frequency_counter1(1109)\n",
        "assert d[1] == 2\n",
        "assert d[0] == 1\n",
        "assert d[9] == 1\n",
        "d = number_frequency_counter1(10292827253436)\n",
        "assert d[1] == 1\n",
        "assert d[2] == 4\n",
        "assert d[3] == 2\n",
        "assert d[4] == 1\n",
        "assert d[5] == 1\n",
        "assert d[6] == 1\n",
        "assert d[7] == 1\n",
        "assert d[8] == 1\n",
        "assert d[9] == 1\n",
        "d = number_frequency_counter1(0)\n",
        "assert len(d) == 1\n",
        "assert d[0] == 1\n",
        "print(\"All test cases passed\")"
      ],
      "execution_count": 0,
      "outputs": []
    },
    {
      "cell_type": "markdown",
      "metadata": {
        "id": "S7aAVXjLp3BL",
        "colab_type": "text"
      },
      "source": [
        "#3. Number frequency counter - 2\n",
        "\n",
        "You are given a number N, write a program that returns a dictionary which contains the count of occurence of each digit that has occured in the range of 0 to N.\n",
        "for example N=13\n",
        "output:\n",
        "{0:1,   1:5 , 2:2,  3:1,  4:1, 5:1, 6:1, 7:1, 8:1, 9:1 }\n",
        "\n",
        "Convert all the words in the text to lowercase, remove all the special characters like \" .!,' '\" \n",
        "Also write a function that builds a graph by taking the keys as the labels and indicte the count by \"-\"', for example if the dictionary is {\"apple\":5,\"banana\":8}', output should be\n",
        "\n",
        "apple | -----\n",
        "\n",
        "banana | --------"
      ]
    },
    {
      "cell_type": "code",
      "metadata": {
        "id": "7V9cm0ZmtdYd",
        "colab_type": "code",
        "colab": {}
      },
      "source": [
        "#your code goes here\n",
        "def number_frequency_counter2(N):\n",
        "\n",
        "\n",
        "\n",
        "#Do not modify code here...\n",
        "d = number_frequency_counter2(10)\n",
        "assert d[1] == 1\n",
        "assert d[2] == 1\n",
        "assert d[3] == 1\n",
        "assert d[4] == 1\n",
        "assert d[5] == 1\n",
        "assert d[6] == 1\n",
        "assert d[7] == 1\n",
        "assert d[8] == 1\n",
        "assert d[9] == 1\n",
        "assert d[0] == 1\n",
        "d = number_frequency_counter2(13)\n",
        "assert d[1] == 5\n",
        "assert d[2] == 2\n",
        "assert d[3] == 1\n",
        "assert d[4] == 1\n",
        "assert d[5] == 1\n",
        "assert d[6] == 1\n",
        "assert d[7] == 1\n",
        "assert d[8] == 1\n",
        "assert d[9] == 1\n",
        "assert d[0] == 2\n",
        "d = number_frequency_counter2(100)\n",
        "assert d[1] == 20\n",
        "assert d[2] == 20\n",
        "assert d[3] == 20\n",
        "assert d[4] == 20\n",
        "assert d[5] == 20\n",
        "assert d[6] == 20\n",
        "assert d[7] == 20\n",
        "assert d[8] == 20\n",
        "assert d[9] == 20\n",
        "assert d[0] == 10\n",
        "d = number_frequency_counter2(1000)\n",
        "assert d[1] == 300\n",
        "assert d[2] == 300\n",
        "assert d[3] == 300\n",
        "assert d[4] == 300\n",
        "assert d[5] == 300\n",
        "assert d[6] == 300\n",
        "assert d[7] == 300\n",
        "assert d[8] == 300\n",
        "assert d[9] == 300\n",
        "assert d[0] == 190\n",
        "print(\"All test cases passed\")"
      ],
      "execution_count": 0,
      "outputs": []
    },
    {
      "cell_type": "markdown",
      "metadata": {
        "id": "HjW5qbIWyJ8U",
        "colab_type": "text"
      },
      "source": [
        "# **Isomorphic Strings**\n",
        "\n",
        "Given two strings s and t, determine if they are isomorphic.\n",
        "\n",
        "Two strings are isomorphic if the characters in s can be replaced to get t.\n",
        "\n",
        "All occurrences of a character must be replaced with another character while preserving the order of characters. No two characters may map to the same character but a character may map to itself.\n",
        "\n",
        "\n",
        "Example 1:\n",
        "\n",
        "Input: s = \"egg\", t = \"add\"\n",
        "Output: true\n",
        "\n",
        "Example 2:\n",
        "\n",
        "Input: s = \"foo\", t = \"bar\"\n",
        "Output: false\n",
        "\n",
        "Example 3:\n",
        "\n",
        "Input: s = \"paper\", t = \"title\"\n",
        "Output: true"
      ]
    },
    {
      "cell_type": "code",
      "metadata": {
        "id": "w50JuIIIzaGi",
        "colab_type": "code",
        "colab": {}
      },
      "source": [
        "#your code goes here\n",
        "def is_isomorphic(a, b):\n",
        "\n",
        "\n",
        "\n",
        "#Do not modify code here...\n",
        "assert is_isomorphic(\"egg\",\"add\") == True\n",
        "assert is_isomorphic(\"foo\",\"bar\") == False\n",
        "assert is_isomorphic(\"paper\",\"title\") == True\n",
        "assert is_isomorphic(\"ACAB\",\"XCXY\") == True\n",
        "assert is_isomorphic(\"\",\"\") == False\n",
        "assert is_isomorphic(\"abca\",\"zbxz\") == True\n",
        "assert is_isomorphic(\"abca\",\"opqr\") == False\n",
        "assert is_isomorphic(\"cacccdaabc\",\"cdcccaddbc\") == True\n",
        "assert is_isomorphic(\"hello\",\"world\") == False\n",
        "assert is_isomorphic(\"\",\"1\") == False\n",
        "assert is_isomorphic(\"123\",\"567\") == True\n",
        "print(\"All testcases passed\")"
      ],
      "execution_count": 0,
      "outputs": []
    }
  ]
}