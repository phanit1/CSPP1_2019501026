{
  "nbformat": 4,
  "nbformat_minor": 0,
  "metadata": {
    "colab": {
      "name": "Lists_tuples_Assignment-1.ipynb",
      "version": "0.3.2",
      "provenance": []
    },
    "kernelspec": {
      "name": "python3",
      "display_name": "Python 3"
    }
  },
  "cells": [
    {
      "cell_type": "markdown",
      "metadata": {
        "id": "7YPYeJIusmhE",
        "colab_type": "text"
      },
      "source": [
        "#1. first_last6 \n",
        "Given an array of ints, return True if 6 appears as either the first or last element in the array. The array will be length 1 or more.\n",
        "\n"
      ]
    },
    {
      "cell_type": "code",
      "metadata": {
        "id": "_op-tjxLq3B4",
        "colab_type": "code",
        "colab": {}
      },
      "source": [
        "def first_last6(nums):\n",
        "  #code\n",
        "  pass\n",
        "assert first_last6([1, 2, 6]) == True\n",
        "assert first_last6([6, 1, 2, 3]) == True\t\n",
        "assert first_last6([13, 6, 1, 2, 3]) == False\t\n",
        "assert first_last6([13, 6, 1, 2, 6]) == True\t\n",
        "assert first_last6([3, 2, 1]) == False\t\n",
        "assert first_last6([3, 6, 1]) == False\n",
        "assert first_last6([3, 6]) == True\t\n",
        "assert first_last6([6]) == True\t\n",
        "assert first_last6([3]) == False\n",
        "assert first_last6([5, 6]) == True\n",
        "assert first_last6([5, 5]) == False\n",
        "assert first_last6([1, 2, 3, 4, 6]) == True\n",
        "assert first_last6([1, 2, 3, 4]) == False\n",
        "print(\"All testcases are passed!\")"
      ],
      "execution_count": 0,
      "outputs": []
    },
    {
      "cell_type": "markdown",
      "metadata": {
        "id": "sSnX-4tRtWkc",
        "colab_type": "text"
      },
      "source": [
        "#2. same_first_last\n",
        "Given an array of ints, return True if the array is length 1 or more, and the first element and the last element are equal.\n"
      ]
    },
    {
      "cell_type": "code",
      "metadata": {
        "id": "2I0yvOfNtft1",
        "colab_type": "code",
        "colab": {}
      },
      "source": [
        "def same_first_last(nums):\n",
        " #code\n",
        " pass\n",
        "assert same_first_last([1, 2, 3]) == False\n",
        "assert same_first_last([1, 2, 3, 1]) == True\n",
        "assert same_first_last([1, 2, 1]) == True\t\n",
        "assert same_first_last([7]) == True\t\n",
        "assert same_first_last([]) == False\t\n",
        "assert same_first_last([1, 2, 3, 4, 5, 1]) == True\t\n",
        "assert same_first_last([1, 2, 3, 4, 5, 13]) == False\t\n",
        "assert same_first_last([13, 2, 3, 4, 5, 13]) == True\t\n",
        "assert same_first_last([7, 7]) == True\n",
        "print(\"All testcases are passed!\")"
      ],
      "execution_count": 0,
      "outputs": []
    },
    {
      "cell_type": "markdown",
      "metadata": {
        "id": "16fcJ-vmtvpu",
        "colab_type": "text"
      },
      "source": [
        "#3. make_pi\n",
        "Return an int array length 3 containing the first 3 digits of pi, {3, 1, 4}.\n",
        "\n"
      ]
    },
    {
      "cell_type": "code",
      "metadata": {
        "id": "N3Bc1IaKt0pa",
        "colab_type": "code",
        "colab": {}
      },
      "source": [
        "def make_pi():\n",
        "  #code\n",
        "  pass\n",
        "assert make_pi() == [3, 1, 4]\n",
        "print(\"All testcases are passed!\")"
      ],
      "execution_count": 0,
      "outputs": []
    },
    {
      "cell_type": "markdown",
      "metadata": {
        "id": "8AqXIZhMuB9Y",
        "colab_type": "text"
      },
      "source": [
        "#4. common_end\n",
        "Given 2 arrays of ints,and b, return True if they have the same first element or they have the same last element. Both arrays will be length 1 or more.\n",
        "\n"
      ]
    },
    {
      "cell_type": "code",
      "metadata": {
        "id": "qX0qRK4auHOz",
        "colab_type": "code",
        "colab": {}
      },
      "source": [
        "def common_end(a, b):\n",
        "  #code\n",
        "  pass\n",
        "assert common_end([1, 2, 3], [7, 3]) == True\t\n",
        "assert common_end([1, 2, 3], [7, 3, 2]) == False\n",
        "assert common_end([1, 2, 3], [1, 3]) == True\n",
        "assert common_end([1, 2, 3], [1]) == True\n",
        "assert common_end([1, 2, 3], [2]) == False\n",
        "print(\"All testcases are passed!\")"
      ],
      "execution_count": 0,
      "outputs": []
    },
    {
      "cell_type": "markdown",
      "metadata": {
        "id": "h_IwzM2RuGnA",
        "colab_type": "text"
      },
      "source": [
        "#5. sum3\n",
        "Given an array of ints length 3, return the sum of all the elements."
      ]
    },
    {
      "cell_type": "code",
      "metadata": {
        "id": "c1KpWbKnuXT1",
        "colab_type": "code",
        "colab": {}
      },
      "source": [
        "def sum3(nums):\n",
        "  #code\n",
        "  pass\n",
        "assert sum3([1, 2, 3]) == 6\n",
        "assert sum3([5, 11, 2]) == 18\n",
        "assert sum3([7, 0, 0]) == 7\n",
        "assert sum3([1, 2, 1]) == 4\t\n",
        "assert sum3([1, 1, 1]) == 3\t\n",
        "assert sum3([2, 7, 2]) == 11\n",
        "print(\"All testcases are passed!\")"
      ],
      "execution_count": 0,
      "outputs": []
    },
    {
      "cell_type": "markdown",
      "metadata": {
        "id": "sfCusbn6uos0",
        "colab_type": "text"
      },
      "source": [
        "#6. rotate_left3\n",
        "Given an array of ints length 3, return an array with the elements \"rotated left\" so {1, 2, 3} yields {2, 3, 1}."
      ]
    },
    {
      "cell_type": "code",
      "metadata": {
        "id": "0pOPslEeusVc",
        "colab_type": "code",
        "colab": {}
      },
      "source": [
        "def rotate_left3(nums):\n",
        "  #code\n",
        "  pass\n",
        "assert rotate_left3([1, 2, 3]) == [2, 3, 1]\n",
        "assert rotate_left3([5, 11, 9]) == [11, 9, 5]\t\n",
        "assert rotate_left3([7, 0, 0]) == [0, 0, 7]\n",
        "assert rotate_left3([1, 2, 1]) == [2, 1, 1]\t\n",
        "assert rotate_left3([0, 0, 1]) == [0, 1, 0]\n",
        "print(\"All testcases are passed!\")"
      ],
      "execution_count": 0,
      "outputs": []
    },
    {
      "cell_type": "markdown",
      "metadata": {
        "id": "OocJnyswu5GV",
        "colab_type": "text"
      },
      "source": [
        "#7. reverse3\n",
        "Given an array of ints length 3, return a new array with the elements in reverse order, so {1, 2, 3} becomes {3, 2, 1}."
      ]
    },
    {
      "cell_type": "code",
      "metadata": {
        "id": "AxVGp4w7u4eV",
        "colab_type": "code",
        "colab": {}
      },
      "source": [
        "def reverse3(nums):\n",
        "  #code\n",
        "  pass\n",
        "assert reverse3([1, 2, 3]) == [3, 2, 1]\t\n",
        "assert reverse3([5, 11, 9]) == [9, 11, 5]\n",
        "assert reverse3([7, 0, 0]) == [0, 0, 7]\n",
        "assert reverse3([2, 1, 2]) == [2, 1, 2]\t\n",
        "assert reverse3([1, 2, 1]) == [1, 2, 1]\n",
        "assert reverse3([2, 11, 3]) == [3, 11, 2]\t\n",
        "assert reverse3([0, 6, 5]) == [5, 6, 0]\n",
        "assert reverse3([7, 2, 3]) == [3, 2, 7]\n",
        "print(\"All testcases are passed!\")"
      ],
      "execution_count": 0,
      "outputs": []
    },
    {
      "cell_type": "markdown",
      "metadata": {
        "id": "91sRmwlNwPRr",
        "colab_type": "text"
      },
      "source": [
        "#8. max_ends\n",
        "Given an array of ints length 3, figure out which is larger, the first or last element in the array, and set all the other elements to be that value. Return the changed array.\n",
        "\n"
      ]
    },
    {
      "cell_type": "code",
      "metadata": {
        "id": "_FaGQUK2wQMV",
        "colab_type": "code",
        "colab": {}
      },
      "source": [
        "def max_end3(nums):\n",
        "  #code\n",
        "  pass\n",
        "assert max_end3([1, 2, 3]) == [3, 3, 3]\n",
        "assert max_end3([11, 5, 9]) == [11, 11, 11]\n",
        "assert max_end3([2, 11, 3]) == [3, 3, 3]\n",
        "assert max_end3([11, 3, 3]) == [11, 11, 11]\t\n",
        "assert max_end3([3, 11, 11]) == [11, 11, 11]\n",
        "assert max_end3([2, 2, 2]) == [2, 2, 2]\t\n",
        "assert max_end3([2, 11, 2]) == [2, 2, 2]\n",
        "assert max_end3([0, 0, 1]) == [1, 1, 1]\n",
        "print(\"All testcases are passed!\")"
      ],
      "execution_count": 0,
      "outputs": []
    },
    {
      "cell_type": "markdown",
      "metadata": {
        "id": "jEb2mkgrwayZ",
        "colab_type": "text"
      },
      "source": [
        "#9. sum2\n",
        "Given an array of ints, return the sum of the first 2 elements in the array. If the array length is less than 2, just sum up the elements that exist, returning 0 if the array is length 0."
      ]
    },
    {
      "cell_type": "code",
      "metadata": {
        "id": "qF-al-00wmm9",
        "colab_type": "code",
        "colab": {}
      },
      "source": [
        "def sum2(nums):\n",
        "  #code\n",
        "  pass\n",
        "assert sum2([1, 2, 3]) == 3\t\n",
        "assert sum2([1, 1]) == 2\n",
        "assert sum2([1, 1, 1, 1]) == 2\n",
        "assert sum2([1, 2]) == 3\n",
        "assert sum2([1]) == 1\t\n",
        "assert sum2([]) == 0\t\n",
        "assert sum2([4, 5, 6]) == 9\t\n",
        "assert sum2([4]) == 4\n",
        "print(\"All testcases are passed!\")\n"
      ],
      "execution_count": 0,
      "outputs": []
    },
    {
      "cell_type": "markdown",
      "metadata": {
        "id": "K6R1m4FZ17Oi",
        "colab_type": "text"
      },
      "source": [
        "#10. middle_way\n",
        "Given 2 int arrays, a and b, each length 3, return a new array length 2 containing their middle elements.\n",
        "\n",
        "\n",
        "\n",
        "\n"
      ]
    },
    {
      "cell_type": "code",
      "metadata": {
        "id": "ZK3qhOtK1_XP",
        "colab_type": "code",
        "colab": {}
      },
      "source": [
        "def middle_way(a, b):\n",
        "  #code\n",
        "  pass\n",
        "assert middle_way([1, 2, 3], [4, 5, 6]) == [2, 5]\n",
        "assert middle_way([7, 7, 7], [3, 8, 0]) == [7, 8]\n",
        "assert middle_way([5, 2, 9], [1, 4, 5]) == [2, 4]\n",
        "assert middle_way([1, 9, 7], [4, 8, 8]) == [9, 8]\n",
        "assert middle_way([1, 2, 3], [3, 1, 4]) == [2, 1]\n",
        "assert middle_way([1, 2, 3], [4, 1, 1]) == [2, 1]\n",
        "print(\"All testcases are passed!\")\n"
      ],
      "execution_count": 0,
      "outputs": []
    },
    {
      "cell_type": "markdown",
      "metadata": {
        "id": "34gqqdxw2MtZ",
        "colab_type": "text"
      },
      "source": [
        "#11. make_ends \n",
        "Given an array of ints, return a new array length 2 containing the first and last elements from the original array. The original array will be length 1 or more."
      ]
    },
    {
      "cell_type": "code",
      "metadata": {
        "id": "jpPmE26l2Qsw",
        "colab_type": "code",
        "colab": {}
      },
      "source": [
        "def make_ends(nums):\n",
        "  #code\n",
        "  pass\n",
        "assert make_ends([1, 2, 3]) == [1, 3]\t\n",
        "assert make_ends([1, 2, 3, 4]) == [1, 4]\t\n",
        "assert make_ends([7, 4, 6, 2]) == [7, 2]\n",
        "assert make_ends([1, 2, 2, 2, 2, 2, 2, 3]) == [1, 3]\n",
        "assert make_ends([7, 4]) == [7, 4]\n",
        "assert make_ends([7]) == [7, 7]\n",
        "assert make_ends([5, 2, 9]) == [5, 9]\n",
        "assert make_ends([2, 3, 4, 1]) == [2, 1]\t\n",
        "print(\"All testcases are passed!\")"
      ],
      "execution_count": 0,
      "outputs": []
    },
    {
      "cell_type": "markdown",
      "metadata": {
        "id": "18wtro213G8_",
        "colab_type": "text"
      },
      "source": [
        "#12. has23 \n",
        "Given an int array length 2, return True if it contains a 2 or a 3."
      ]
    },
    {
      "cell_type": "code",
      "metadata": {
        "id": "Okf3_tQt3LcV",
        "colab_type": "code",
        "colab": {}
      },
      "source": [
        "def has23(nums):\n",
        "  #code\n",
        "  pass\n",
        "assert has23([2, 5]) == True\n",
        "assert has23([4, 3]) == True\t\n",
        "assert has23([4, 5]) == False\n",
        "assert has23([2, 2]) == True\t\n",
        "assert has23([3, 2]) == True\t\n",
        "assert has23([3, 3]) == True\t\n",
        "assert has23([7, 7]) == False\n",
        "assert has23([3, 9]) == True\n",
        "assert has23([9, 5]) == False\n",
        "print(\"All testcases are passed!\")"
      ],
      "execution_count": 0,
      "outputs": []
    }
  ]
}